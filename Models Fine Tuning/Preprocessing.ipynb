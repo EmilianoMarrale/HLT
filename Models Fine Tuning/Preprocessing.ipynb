{
 "cells": [
  {
   "metadata": {
    "ExecuteTime": {
     "end_time": "2025-05-26T14:35:50.259675Z",
     "start_time": "2025-05-26T14:35:49.579648Z"
    }
   },
   "cell_type": "code",
   "source": [
    "import pandas as pd\n",
    "from util import eda_augment_dataset, get_dataframe_from_json\n",
    "from sklearn.model_selection import train_test_split\n",
    "import matplotlib.pyplot as plt"
   ],
   "id": "397cdc84b9f7d65a",
   "outputs": [],
   "execution_count": 1
  },
  {
   "metadata": {},
   "cell_type": "markdown",
   "source": "# Loading and data preprocessing",
   "id": "e3cae3f4e6fd9c15"
  },
  {
   "metadata": {
    "ExecuteTime": {
     "end_time": "2025-05-25T15:36:55.258104Z",
     "start_time": "2025-05-25T15:36:55.115238Z"
    }
   },
   "cell_type": "code",
   "source": [
    "hld = get_dataframe_from_json('../dailydialog/hand_labeled/hand_labelled_dataset.json')\n",
    "\n",
    "# Convert labels to integer\n",
    "hat_map = {\n",
    "    0: \"red\",\n",
    "    1: \"white\",\n",
    "    2: \"black\",\n",
    "    3: \"yellow\",\n",
    "    4: \"green\",\n",
    "}\n",
    "reverse_hat_map = {v: k for k, v in hat_map.items()}\n",
    "hld['hat'] = hld['hat'].apply(lambda x: reverse_hat_map[x])\n",
    "\n",
    "# Removing __eou__ delimiter\n",
    "hld['utterance'] = hld['utterance'].str.replace('__eou__', '', regex=False)\n",
    "\n",
    "# Remove useless white spaces\n",
    "hld['utterance'] = hld['utterance'].str.replace(r'\\s+([,.!?;:])', r'\\1', regex=True)\n",
    "\n",
    "hld['hat'].map(hat_map).value_counts().plot(kind='bar')\n",
    "plt.title(\"Hat Distribution\")\n",
    "plt.xlabel(\"Hat\")\n",
    "plt.ylabel(\"Count\")\n",
    "plt.show()"
   ],
   "id": "36111eba0dbcf71a",
   "outputs": [
    {
     "data": {
      "text/plain": [
       "<Figure size 640x480 with 1 Axes>"
      ],
      "image/png": "[encoded data removed]"
     },
     "metadata": {},
     "output_type": "display_data"
    }
   ],
   "execution_count": 6
  },
  {
   "metadata": {
    "ExecuteTime": {
     "end_time": "2025-05-25T15:37:45.289052Z",
     "start_time": "2025-05-25T15:37:45.281132Z"
    }
   },
   "cell_type": "code",
   "source": [
    "train_df, test_df = train_test_split(hld, test_size=0.2, random_state=42, stratify=hld['hat'])\n",
    "\n",
    "train_df.to_json('normal_train_dataset.json', orient='records', lines=False)\n",
    "test_df.to_json('normal_test_dataset.json', orient='records', lines=False)"
   ],
   "id": "e61d6ac1316350a3",
   "outputs": [],
   "execution_count": 7
  },
  {
   "metadata": {},
   "cell_type": "markdown",
   "source": "# Data Augmentation using EDA",
   "id": "1973550131ad6418"
  },
  {
   "metadata": {
    "ExecuteTime": {
     "end_time": "2025-05-25T15:41:32.326064Z",
     "start_time": "2025-05-25T15:41:32.255028Z"
    }
   },
   "cell_type": "code",
   "source": [
    "\n",
    "green_augmented = eda_augment_dataset(train_df[train_df['hat'] == 4], num_aug=10, alpha_sr=0.05, alpha_ri=0.05, alpha_rs=0.05, p_rd=0.1)\n",
    "yellow_augmented = eda_augment_dataset(train_df[train_df['hat'] == 3], num_aug=6, alpha_sr=0.05, alpha_ri=0.05, alpha_rs=0.05, p_rd=0.1)\n",
    "black_augmented = eda_augment_dataset(train_df[train_df['hat'] == 2], num_aug=5, alpha_sr=0.05, alpha_ri=0.05, alpha_rs=0.05, p_rd=0.1)\n",
    "red_augmented = eda_augment_dataset(train_df[train_df['hat'] == 0], num_aug=2, alpha_sr=0.05, alpha_ri=0.05, alpha_rs=0.05, p_rd=0.1)\n",
    "\n",
    "augmented_train_df = pd.concat([train_df, green_augmented, yellow_augmented, black_augmented, red_augmented], ignore_index=True)\n",
    "augmented_train_df"
   ],
   "id": "e5415215e34ddfa8",
   "outputs": [
    {
     "data": {
      "text/plain": [
       "      turn                                          utterance     emotion  \\\n",
       "0        3                               I'll take one, too.    happiness   \n",
       "1        8  You know, we are superior to other clothes com...  no_emotion   \n",
       "2        5                          Her new boyfriend, right?  no_emotion   \n",
       "3        9  How about recommending him to use the storage ...  no_emotion   \n",
       "4        1   Oh, a bouquet of flowers. It's very kind of you.    surprise   \n",
       "...    ...                                                ...         ...   \n",
       "2501     5                                    give thanks you   happiness   \n",
       "2502     0                              i prefer to eggplants  no_emotion   \n",
       "2503     0                        i prefer tater to eggplants  no_emotion   \n",
       "2504     0                              i am all bored so day  no_emotion   \n",
       "2505     0                              i am so bored all day  no_emotion   \n",
       "\n",
       "             act  hat  \n",
       "0         inform    0  \n",
       "1         inform    3  \n",
       "2     commissive    1  \n",
       "3      directive    4  \n",
       "4     commissive    1  \n",
       "...          ...  ...  \n",
       "2501      inform    0  \n",
       "2502      inform    0  \n",
       "2503      inform    0  \n",
       "2504      inform    0  \n",
       "2505      inform    0  \n",
       "\n",
       "[2506 rows x 5 columns]"
      ],
      "text/html": [
       "<div>\n",
       "<style scoped>\n",
       "    .dataframe tbody tr th:only-of-type {\n",
       "        vertical-align: middle;\n",
       "    }\n",
       "\n",
       "    .dataframe tbody tr th {\n",
       "        vertical-align: top;\n",
       "    }\n",
       "\n",
       "    .dataframe thead th {\n",
       "        text-align: right;\n",
       "    }\n",
       "</style>\n",
       "<table border=\"1\" class=\"dataframe\">\n",
       "  <thead>\n",
       "    <tr style=\"text-align: right;\">\n",
       "      <th></th>\n",
       "      <th>turn</th>\n",
       "      <th>utterance</th>\n",
       "      <th>emotion</th>\n",
       "      <th>act</th>\n",
       "      <th>hat</th>\n",
       "    </tr>\n",
       "  </thead>\n",
       "  <tbody>\n",
       "    <tr>\n",
       "      <th>0</th>\n",
       "      <td>3</td>\n",
       "      <td>I'll take one, too.</td>\n",
       "      <td>happiness</td>\n",
       "      <td>inform</td>\n",
       "      <td>0</td>\n",
       "    </tr>\n",
       "    <tr>\n",
       "      <th>1</th>\n",
       "      <td>8</td>\n",
       "      <td>You know, we are superior to other clothes com...</td>\n",
       "      <td>no_emotion</td>\n",
       "      <td>inform</td>\n",
       "      <td>3</td>\n",
       "    </tr>\n",
       "    <tr>\n",
       "      <th>2</th>\n",
       "      <td>5</td>\n",
       "      <td>Her new boyfriend, right?</td>\n",
       "      <td>no_emotion</td>\n",
       "      <td>commissive</td>\n",
       "      <td>1</td>\n",
       "    </tr>\n",
       "    <tr>\n",
       "      <th>3</th>\n",
       "      <td>9</td>\n",
       "      <td>How about recommending him to use the storage ...</td>\n",
       "      <td>no_emotion</td>\n",
       "      <td>directive</td>\n",
       "      <td>4</td>\n",
       "    </tr>\n",
       "    <tr>\n",
       "      <th>4</th>\n",
       "      <td>1</td>\n",
       "      <td>Oh, a bouquet of flowers. It's very kind of you.</td>\n",
       "      <td>surprise</td>\n",
       "      <td>commissive</td>\n",
       "      <td>1</td>\n",
       "    </tr>\n",
       "    <tr>\n",
       "      <th>...</th>\n",
       "      <td>...</td>\n",
       "      <td>...</td>\n",
       "      <td>...</td>\n",
       "      <td>...</td>\n",
       "      <td>...</td>\n",
       "    </tr>\n",
       "    <tr>\n",
       "      <th>2501</th>\n",
       "      <td>5</td>\n",
       "      <td>give thanks you</td>\n",
       "      <td>happiness</td>\n",
       "      <td>inform</td>\n",
       "      <td>0</td>\n",
       "    </tr>\n",
       "    <tr>\n",
       "      <th>2502</th>\n",
       "      <td>0</td>\n",
       "      <td>i prefer to eggplants</td>\n",
       "      <td>no_emotion</td>\n",
       "      <td>inform</td>\n",
       "      <td>0</td>\n",
       "    </tr>\n",
       "    <tr>\n",
       "      <th>2503</th>\n",
       "      <td>0</td>\n",
       "      <td>i prefer tater to eggplants</td>\n",
       "      <td>no_emotion</td>\n",
       "      <td>inform</td>\n",
       "      <td>0</td>\n",
       "    </tr>\n",
       "    <tr>\n",
       "      <th>2504</th>\n",
       "      <td>0</td>\n",
       "      <td>i am all bored so day</td>\n",
       "      <td>no_emotion</td>\n",
       "      <td>inform</td>\n",
       "      <td>0</td>\n",
       "    </tr>\n",
       "    <tr>\n",
       "      <th>2505</th>\n",
       "      <td>0</td>\n",
       "      <td>i am so bored all day</td>\n",
       "      <td>no_emotion</td>\n",
       "      <td>inform</td>\n",
       "      <td>0</td>\n",
       "    </tr>\n",
       "  </tbody>\n",
       "</table>\n",
       "<p>2506 rows × 5 columns</p>\n",
       "</div>"
      ]
     },
     "execution_count": 22,
     "metadata": {},
     "output_type": "execute_result"
    }
   ],
   "execution_count": 22
  },
  {
   "metadata": {
    "ExecuteTime": {
     "end_time": "2025-05-25T15:41:32.589482Z",
     "start_time": "2025-05-25T15:41:32.549977Z"
    }
   },
   "cell_type": "code",
   "source": [
    "augmented_train_df['hat'].map(hat_map).value_counts().plot(kind='bar')\n",
    "plt.title(\"Hat Distribution\")\n",
    "plt.xlabel(\"Hat\")\n",
    "plt.ylabel(\"Count\")\n",
    "plt.show()"
   ],
   "id": "580f120fd3984aa2",
   "outputs": [
    {
     "data": {
      "text/plain": [
       "<Figure size 640x480 with 1 Axes>"
      ],
      "image/png": "[encoded data removed]"
     },
     "metadata": {},
     "output_type": "display_data"
    }
   ],
   "execution_count": 23
  },
  {
   "metadata": {
    "ExecuteTime": {
     "end_time": "2025-05-21T16:44:36.362282Z",
     "start_time": "2025-05-21T16:44:36.351013Z"
    }
   },
   "cell_type": "code",
   "source": [
    "augmented_train_df.to_json('eda_train_dataset.json', orient='records', lines=False)\n",
    "test_df.to_json('eda_test_dataset.json', orient='records', lines=False)"
   ],
   "id": "f142b184f3b3cb2",
   "outputs": [],
   "execution_count": 30
  },
  {
   "metadata": {},
   "cell_type": "markdown",
   "source": "# Loading and Preprocessing the Automated Labeled Dataset",
   "id": "498494ed118afc37"
  },
  {
   "metadata": {
    "ExecuteTime": {
     "end_time": "2025-05-26T14:35:59.840557Z",
     "start_time": "2025-05-26T14:35:59.750763Z"
    }
   },
   "cell_type": "code",
   "source": [
    "ald = pd.read_csv('../dailydialog/final_dataset.csv')\n",
    "\n",
    "# Convert labels to integer\n",
    "hat_map = {\n",
    "    0: \"red\",\n",
    "    1: \"white\",\n",
    "    2: \"black\",\n",
    "    3: \"yellow\",\n",
    "    4: \"green\",\n",
    "}\n",
    "reverse_hat_map = {v: k for k, v in hat_map.items()}\n",
    "ald['hat'] = ald['hat'].apply(lambda x: reverse_hat_map[x])\n",
    "\n",
    "# Removing __eou__ delimiter\n",
    "ald['utterance'] = ald['utterance'].str.replace('__eou__', '', regex=False)\n",
    "\n",
    "# Remove useless white spaces\n",
    "ald['utterance'] = ald['utterance'].str.replace(r'\\s+([,.!?;:])', r'\\1', regex=True)\n",
    "\n",
    "ald['hat'].map(hat_map).value_counts().plot(kind='bar')\n",
    "plt.title(\"Hat Distribution\")\n",
    "plt.xlabel(\"Hat\")\n",
    "plt.ylabel(\"Count\")\n",
    "plt.show()"
   ],
   "id": "f7dc76afd2d5ff16",
   "outputs": [
    {
     "data": {
      "text/plain": [
       "<Figure size 640x480 with 1 Axes>"
      ],
      "image/png": "[encoded data removed]"
     },
     "metadata": {},
     "output_type": "display_data"
    }
   ],
   "execution_count": 2
  },
  {
   "metadata": {
    "ExecuteTime": {
     "end_time": "2025-05-26T14:36:16.055885Z",
     "start_time": "2025-05-26T14:36:16.039889Z"
    }
   },
   "cell_type": "code",
   "source": [
    "ald_train_df, ald_test_df = train_test_split(ald, test_size=0.2, random_state=42, stratify=ald['hat'])\n",
    "\n",
    "ald_train_df.to_json('ald_train_dataset.json', orient='records', lines=False)\n",
    "ald_test_df.to_json('ald_test_dataset.json', orient='records', lines=False)"
   ],
   "id": "18223d692f5d6e1d",
   "outputs": [],
   "execution_count": 3
  },
  {
   "metadata": {},
   "cell_type": "code",
   "outputs": [],
   "execution_count": null,
   "source": "",
   "id": "1b7336df63f17920"
  }
 ],
 "metadata": {
  "kernelspec": {
   "display_name": "Python 3",
   "language": "python",
   "name": "python3"
  },
  "language_info": {
   "codemirror_mode": {
    "name": "ipython",
    "version": 2
   },
   "file_extension": ".py",
   "mimetype": "text/x-python",
   "name": "python",
   "nbconvert_exporter": "python",
   "pygments_lexer": "ipython2",
   "version": "2.7.6"
  }
 },
 "nbformat": 4,
 "nbformat_minor": 5
}
