{
 "cells": [
  {
   "metadata": {
    "ExecuteTime": {
     "end_time": "2025-05-24T15:55:04.718345Z",
     "start_time": "2025-05-24T15:55:04.046774Z"
    }
   },
   "cell_type": "code",
   "source": [
    "import pandas as pd\n",
    "from util import eda_augment_dataset, get_dataframe_from_json\n",
    "from sklearn.model_selection import train_test_split\n",
    "import matplotlib.pyplot as plt"
   ],
   "id": "397cdc84b9f7d65a",
   "outputs": [],
   "execution_count": 1
  },
  {
   "metadata": {},
   "cell_type": "markdown",
   "source": "# Loading and data preprocessing",
   "id": "e3cae3f4e6fd9c15"
  },
  {
   "metadata": {
    "ExecuteTime": {
     "end_time": "2025-05-24T15:55:05.405197Z",
     "start_time": "2025-05-24T15:55:05.311864Z"
    }
   },
   "cell_type": "code",
   "source": [
    "hld = pd.read_csv('../dailydialog/final_dataset.csv')\n",
    "\n",
    "# Convert labels to integer\n",
    "hat_map = {\n",
    "    0: \"red\",\n",
    "    1: \"white\",\n",
    "    2: \"black\",\n",
    "    3: \"yellow\",\n",
    "    4: \"green\",\n",
    "}\n",
    "reverse_hat_map = {v: k for k, v in hat_map.items()}\n",
    "hld['hat'] = hld['hat'].apply(lambda x: reverse_hat_map[x])\n",
    "\n",
    "# Removing __eou__ delimiter\n",
    "hld['utterance'] = hld['utterance'].str.replace('__eou__', '', regex=False)\n",
    "\n",
    "# Remove useless white spaces\n",
    "hld['utterance'] = hld['utterance'].str.replace(r'\\s+([,.!?;:])', r'\\1', regex=True)\n",
    "\n",
    "hld['hat'].map(hat_map).value_counts().plot(kind='bar')\n",
    "plt.title(\"Hat Distribution\")\n",
    "plt.xlabel(\"Hat\")\n",
    "plt.ylabel(\"Count\")\n",
    "plt.show()"
   ],
   "id": "36111eba0dbcf71a",
   "outputs": [
    {
     "data": {
      "text/plain": [
       "<Figure size 640x480 with 1 Axes>"
      ],
      "image/png": "[encoded data removed]"
     },
     "metadata": {},
     "output_type": "display_data"
    }
   ],
   "execution_count": 2
  },
  {
   "metadata": {
    "ExecuteTime": {
     "end_time": "2025-05-24T15:55:10.850674Z",
     "start_time": "2025-05-24T15:55:10.845121Z"
    }
   },
   "cell_type": "code",
   "source": "hld['hat'].map(hat_map).value_counts()",
   "id": "cb4f76ecdda38cca",
   "outputs": [
    {
     "data": {
      "text/plain": [
       "hat\n",
       "white     1000\n",
       "green     1000\n",
       "yellow    1000\n",
       "black     1000\n",
       "red       1000\n",
       "Name: count, dtype: int64"
      ]
     },
     "execution_count": 3,
     "metadata": {},
     "output_type": "execute_result"
    }
   ],
   "execution_count": 3
  },
  {
   "metadata": {
    "ExecuteTime": {
     "end_time": "2025-05-24T15:55:12.386144Z",
     "start_time": "2025-05-24T15:55:12.371603Z"
    }
   },
   "cell_type": "code",
   "source": [
    "train_df, test_df = train_test_split(hld, test_size=0.2, random_state=42, stratify=hld['hat'])\n",
    "\n",
    "train_df.to_json('train_dataset.json', orient='records', lines=False)\n",
    "test_df.to_json('test_dataset.json', orient='records', lines=False)"
   ],
   "id": "e61d6ac1316350a3",
   "outputs": [],
   "execution_count": 4
  },
  {
   "metadata": {},
   "cell_type": "markdown",
   "source": "a# Data Augmentation using EDA",
   "id": "1973550131ad6418"
  },
  {
   "metadata": {
    "ExecuteTime": {
     "end_time": "2025-05-21T16:44:34.012615Z",
     "start_time": "2025-05-21T16:44:33.843276Z"
    }
   },
   "cell_type": "code",
   "source": [
    "\n",
    "green_augmented = eda_augment_dataset(train_df[train_df['hat'] == 4], num_aug=10, alpha_sr=0.05, alpha_ri=0.05, alpha_rs=0.05, p_rd=0.1)\n",
    "yellow_augmented = eda_augment_dataset(train_df[train_df['hat'] == 3], num_aug=10, alpha_sr=0.05, alpha_ri=0.05, alpha_rs=0.05, p_rd=0.1)\n",
    "black_augmented = eda_augment_dataset(train_df[train_df['hat'] == 2], num_aug=10, alpha_sr=0.05, alpha_ri=0.05, alpha_rs=0.05, p_rd=0.1)\n",
    "red_augmented = eda_augment_dataset(train_df[train_df['hat'] == 0], num_aug=5, alpha_sr=0.05, alpha_ri=0.05, alpha_rs=0.05, p_rd=0.1)\n",
    "\n",
    "augmented_train_df = pd.concat([train_df, green_augmented, yellow_augmented, black_augmented, red_augmented], ignore_index=True)\n",
    "augmented_train_df"
   ],
   "id": "e5415215e34ddfa8",
   "outputs": [
    {
     "data": {
      "text/plain": [
       "      turn                                          utterance     emotion  \\\n",
       "0        3                               I'll take one, too.    happiness   \n",
       "1        8  You know, we are superior to other clothes com...  no_emotion   \n",
       "2        5                          Her new boyfriend, right?  no_emotion   \n",
       "3        9  How about recommending him to use the storage ...  no_emotion   \n",
       "4        1   Oh, a bouquet of flowers. It's very kind of you.    surprise   \n",
       "...    ...                                                ...         ...   \n",
       "3738     0                       i am wholly so bored all day  no_emotion   \n",
       "3739     0                         i am so bored all daylight  no_emotion   \n",
       "3740     0                              i am so bored all day  no_emotion   \n",
       "3741     0                          i am so bored all daytime  no_emotion   \n",
       "3742     0                              day am so bored all i  no_emotion   \n",
       "\n",
       "             act  hat  \n",
       "0         inform    0  \n",
       "1         inform    3  \n",
       "2     commissive    1  \n",
       "3      directive    4  \n",
       "4     commissive    1  \n",
       "...          ...  ...  \n",
       "3738      inform    0  \n",
       "3739      inform    0  \n",
       "3740      inform    0  \n",
       "3741      inform    0  \n",
       "3742      inform    0  \n",
       "\n",
       "[3743 rows x 5 columns]"
      ],
      "text/html": [
       "<div>\n",
       "<style scoped>\n",
       "    .dataframe tbody tr th:only-of-type {\n",
       "        vertical-align: middle;\n",
       "    }\n",
       "\n",
       "    .dataframe tbody tr th {\n",
       "        vertical-align: top;\n",
       "    }\n",
       "\n",
       "    .dataframe thead th {\n",
       "        text-align: right;\n",
       "    }\n",
       "</style>\n",
       "<table border=\"1\" class=\"dataframe\">\n",
       "  <thead>\n",
       "    <tr style=\"text-align: right;\">\n",
       "      <th></th>\n",
       "      <th>turn</th>\n",
       "      <th>utterance</th>\n",
       "      <th>emotion</th>\n",
       "      <th>act</th>\n",
       "      <th>hat</th>\n",
       "    </tr>\n",
       "  </thead>\n",
       "  <tbody>\n",
       "    <tr>\n",
       "      <th>0</th>\n",
       "      <td>3</td>\n",
       "      <td>I'll take one, too.</td>\n",
       "      <td>happiness</td>\n",
       "      <td>inform</td>\n",
       "      <td>0</td>\n",
       "    </tr>\n",
       "    <tr>\n",
       "      <th>1</th>\n",
       "      <td>8</td>\n",
       "      <td>You know, we are superior to other clothes com...</td>\n",
       "      <td>no_emotion</td>\n",
       "      <td>inform</td>\n",
       "      <td>3</td>\n",
       "    </tr>\n",
       "    <tr>\n",
       "      <th>2</th>\n",
       "      <td>5</td>\n",
       "      <td>Her new boyfriend, right?</td>\n",
       "      <td>no_emotion</td>\n",
       "      <td>commissive</td>\n",
       "      <td>1</td>\n",
       "    </tr>\n",
       "    <tr>\n",
       "      <th>3</th>\n",
       "      <td>9</td>\n",
       "      <td>How about recommending him to use the storage ...</td>\n",
       "      <td>no_emotion</td>\n",
       "      <td>directive</td>\n",
       "      <td>4</td>\n",
       "    </tr>\n",
       "    <tr>\n",
       "      <th>4</th>\n",
       "      <td>1</td>\n",
       "      <td>Oh, a bouquet of flowers. It's very kind of you.</td>\n",
       "      <td>surprise</td>\n",
       "      <td>commissive</td>\n",
       "      <td>1</td>\n",
       "    </tr>\n",
       "    <tr>\n",
       "      <th>...</th>\n",
       "      <td>...</td>\n",
       "      <td>...</td>\n",
       "      <td>...</td>\n",
       "      <td>...</td>\n",
       "      <td>...</td>\n",
       "    </tr>\n",
       "    <tr>\n",
       "      <th>3738</th>\n",
       "      <td>0</td>\n",
       "      <td>i am wholly so bored all day</td>\n",
       "      <td>no_emotion</td>\n",
       "      <td>inform</td>\n",
       "      <td>0</td>\n",
       "    </tr>\n",
       "    <tr>\n",
       "      <th>3739</th>\n",
       "      <td>0</td>\n",
       "      <td>i am so bored all daylight</td>\n",
       "      <td>no_emotion</td>\n",
       "      <td>inform</td>\n",
       "      <td>0</td>\n",
       "    </tr>\n",
       "    <tr>\n",
       "      <th>3740</th>\n",
       "      <td>0</td>\n",
       "      <td>i am so bored all day</td>\n",
       "      <td>no_emotion</td>\n",
       "      <td>inform</td>\n",
       "      <td>0</td>\n",
       "    </tr>\n",
       "    <tr>\n",
       "      <th>3741</th>\n",
       "      <td>0</td>\n",
       "      <td>i am so bored all daytime</td>\n",
       "      <td>no_emotion</td>\n",
       "      <td>inform</td>\n",
       "      <td>0</td>\n",
       "    </tr>\n",
       "    <tr>\n",
       "      <th>3742</th>\n",
       "      <td>0</td>\n",
       "      <td>day am so bored all i</td>\n",
       "      <td>no_emotion</td>\n",
       "      <td>inform</td>\n",
       "      <td>0</td>\n",
       "    </tr>\n",
       "  </tbody>\n",
       "</table>\n",
       "<p>3743 rows × 5 columns</p>\n",
       "</div>"
      ]
     },
     "execution_count": 28,
     "metadata": {},
     "output_type": "execute_result"
    }
   ],
   "execution_count": 28
  },
  {
   "metadata": {
    "ExecuteTime": {
     "end_time": "2025-05-21T16:44:35.355650Z",
     "start_time": "2025-05-21T16:44:35.248918Z"
    }
   },
   "cell_type": "code",
   "source": [
    "augmented_train_df['hat'].map(hat_map).value_counts().plot(kind='bar')\n",
    "plt.title(\"Hat Distribution\")\n",
    "plt.xlabel(\"Hat\")\n",
    "plt.ylabel(\"Count\")\n",
    "plt.show()"
   ],
   "id": "580f120fd3984aa2",
   "outputs": [
    {
     "data": {
      "text/plain": [
       "<Figure size 640x480 with 1 Axes>"
      ],
      "image/png": "[encoded data removed]"
     },
     "metadata": {},
     "output_type": "display_data"
    }
   ],
   "execution_count": 29
  },
  {
   "metadata": {
    "ExecuteTime": {
     "end_time": "2025-05-21T16:44:36.362282Z",
     "start_time": "2025-05-21T16:44:36.351013Z"
    }
   },
   "cell_type": "code",
   "source": "augmented_train_df.to_json('eda_train_dataset.json', orient='records', lines=False)",
   "id": "f142b184f3b3cb2",
   "outputs": [],
   "execution_count": 30
  },
  {
   "metadata": {
    "ExecuteTime": {
     "end_time": "2025-05-21T20:45:38.635937Z",
     "start_time": "2025-05-21T20:45:38.625950Z"
    }
   },
   "cell_type": "code",
   "source": "augmented_train_df['hat'].map(hat_map).value_counts()",
   "id": "6d9848086f110cc3",
   "outputs": [
    {
     "data": {
      "text/plain": [
       "hat\n",
       "black     979\n",
       "red       960\n",
       "yellow    858\n",
       "green     506\n",
       "white     440\n",
       "Name: count, dtype: int64"
      ]
     },
     "execution_count": 33,
     "metadata": {},
     "output_type": "execute_result"
    }
   ],
   "execution_count": 33
  },
  {
   "metadata": {},
   "cell_type": "code",
   "outputs": [],
   "execution_count": null,
   "source": "",
   "id": "f7dc76afd2d5ff16"
  }
 ],
 "metadata": {
  "kernelspec": {
   "display_name": "Python 3",
   "language": "python",
   "name": "python3"
  },
  "language_info": {
   "codemirror_mode": {
    "name": "ipython",
    "version": 2
   },
   "file_extension": ".py",
   "mimetype": "text/x-python",
   "name": "python",
   "nbconvert_exporter": "python",
   "pygments_lexer": "ipython2",
   "version": "2.7.6"
  }
 },
 "nbformat": 4,
 "nbformat_minor": 5
}
