{
 "cells": [
  {
   "cell_type": "markdown",
   "id": "da87bdd0",
   "metadata": {},
   "source": [
    "## Requirements\n",
    "- protobuf sentencepiece bitsandbytes"
   ]
  },
  {
   "cell_type": "code",
   "execution_count": 1,
   "id": "b9c5dc4d",
   "metadata": {},
   "outputs": [],
   "source": [
    "import pandas as pd\n",
    "import json\n",
    "# load the data in one single dataframe\n",
    "def load_data(file_path):\n",
    "    with open(file_path, 'r', encoding='utf-8') as f:\n",
    "        data = json.load(f)\n",
    "    return pd.DataFrame(data)"
   ]
  },
  {
   "cell_type": "code",
   "execution_count": 2,
   "id": "3f8b6b72",
   "metadata": {},
   "outputs": [],
   "source": [
    "def refactor(df):# Extract all utterances from the dialogues\n",
    "    all_utterances = []\n",
    "\n",
    "    for _, row in df.iterrows():\n",
    "        # Each row has an 'utterances' field which is a list of utterance dictionaries\n",
    "        utterances = row['utterances']\n",
    "\n",
    "        # Add dialogue ID and topic to each utterance for reference\n",
    "        for utterance in utterances:\n",
    "            utterance['dialogue_id'] = row['id']\n",
    "            utterance['topic'] = row['topic']\n",
    "            all_utterances.append(utterance)\n",
    "\n",
    "    # Convert to DataFrame for easier analysis\n",
    "    df = pd.DataFrame(all_utterances)\n",
    "    return df"
   ]
  },
  {
   "cell_type": "code",
   "execution_count": 3,
   "id": "9e70ce68",
   "metadata": {},
   "outputs": [],
   "source": [
    "df = load_data('../../dailydialog/dialogues.json')"
   ]
  },
  {
   "cell_type": "code",
   "execution_count": 4,
   "id": "357c6804",
   "metadata": {},
   "outputs": [
    {
     "data": {
      "application/vnd.microsoft.datawrangler.viewer.v0+json": {
       "columns": [
        {
         "name": "index",
         "rawType": "int64",
         "type": "integer"
        },
        {
         "name": "turn",
         "rawType": "int64",
         "type": "integer"
        },
        {
         "name": "utterance",
         "rawType": "object",
         "type": "string"
        },
        {
         "name": "emotion",
         "rawType": "object",
         "type": "string"
        },
        {
         "name": "act",
         "rawType": "object",
         "type": "string"
        },
        {
         "name": "hat",
         "rawType": "object",
         "type": "string"
        },
        {
         "name": "dialogue_id",
         "rawType": "int64",
         "type": "integer"
        },
        {
         "name": "topic",
         "rawType": "object",
         "type": "string"
        }
       ],
       "ref": "b3d45e7f-fc6e-497d-b3cf-8ab7133a0910",
       "rows": [
        [
         "0",
         "0",
         "The kitchen stinks .",
         "disgust",
         "directive",
         "",
         "0",
         "Ordinary_Life"
        ],
        [
         "1",
         "1",
         "I'll throw out the garbage . __eou__",
         "no_emotion",
         "commissive",
         "",
         "0",
         "Ordinary_Life"
        ],
        [
         "2",
         "0",
         "So Dick , how about getting some coffee for tonight ?",
         "happiness",
         "directive",
         "",
         "1",
         "Ordinary_Life"
        ],
        [
         "3",
         "1",
         "Coffee ? I don ’ t honestly like that kind of stuff .",
         "disgust",
         "commissive",
         "",
         "1",
         "Ordinary_Life"
        ],
        [
         "4",
         "2",
         "Come on , you can at least try a little , besides your cigarette .",
         "no_emotion",
         "directive",
         "",
         "1",
         "Ordinary_Life"
        ],
        [
         "5",
         "3",
         "What ’ s wrong with that ? Cigarette is the thing I go crazy for .",
         "anger",
         "inform",
         "",
         "1",
         "Ordinary_Life"
        ],
        [
         "6",
         "4",
         "Not for me , Dick . __eou__",
         "no_emotion",
         "inform",
         "",
         "1",
         "Ordinary_Life"
        ],
        [
         "7",
         "0",
         "Are things still going badly with your houseguest ?",
         "no_emotion",
         "question",
         "",
         "2",
         "Ordinary_Life"
        ],
        [
         "8",
         "1",
         "Getting worse . Now he ’ s eating me out of house and home . I ’ Ve tried talking to him but it all goes in one ear and out the other . He makes himself at home , which is fine . But what really gets me is that yesterday he walked into the living room in the raw and I had company over ! That was the last straw .",
         "anger",
         "inform",
         "",
         "2",
         "Ordinary_Life"
        ],
        [
         "9",
         "2",
         "Leo , I really think you ’ re beating around the bush with this guy . I know he used to be your best friend in college , but I really think it ’ s time to lay down the law .",
         "no_emotion",
         "directive",
         "",
         "2",
         "Ordinary_Life"
        ],
        [
         "10",
         "3",
         "You ’ re right . Everything is probably going to come to a head tonight . I ’ ll keep you informed . __eou__",
         "no_emotion",
         "commissive",
         "",
         "2",
         "Ordinary_Life"
        ],
        [
         "11",
         "0",
         "Would you mind waiting a while ?",
         "no_emotion",
         "directive",
         "",
         "3",
         "Ordinary_Life"
        ],
        [
         "12",
         "1",
         "Well , how long will it be ?",
         "no_emotion",
         "question",
         "",
         "3",
         "Ordinary_Life"
        ],
        [
         "13",
         "2",
         "I'm not sure . But I'll get a table ready as fast as I can .",
         "no_emotion",
         "inform",
         "",
         "3",
         "Ordinary_Life"
        ],
        [
         "14",
         "3",
         "OK . We'll wait . __eou__",
         "happiness",
         "inform",
         "",
         "3",
         "Ordinary_Life"
        ],
        [
         "15",
         "0",
         "Are you going to the annual party ? I can give you a ride if you need one .",
         "no_emotion",
         "directive",
         "",
         "4",
         "Ordinary_Life"
        ],
        [
         "16",
         "1",
         "Thanks a lot . That's the favor I was going to ask you for .",
         "happiness",
         "commissive",
         "",
         "4",
         "Ordinary_Life"
        ],
        [
         "17",
         "2",
         "The pleasure is mine . __eou__",
         "happiness",
         "inform",
         "",
         "4",
         "Ordinary_Life"
        ],
        [
         "18",
         "0",
         "Isn ’ t he the best instructor ? I think he ’ s so hot . Wow ! I really feel energized , don ’ t you ?",
         "happiness",
         "question",
         "",
         "5",
         "Ordinary_Life"
        ],
        [
         "19",
         "1",
         "I swear , I ’ m going to kill you for this .",
         "disgust",
         "inform",
         "",
         "5",
         "Ordinary_Life"
        ],
        [
         "20",
         "2",
         "What ’ s wrong ? Didn ’ t you think it was fun ? !",
         "surprise",
         "question",
         "",
         "5",
         "Ordinary_Life"
        ],
        [
         "21",
         "3",
         "Oh , yeah ! I had a blast ! I love sweating like a pig with a bunch of pot bellies who all smell bad . Sorry , I ’ m just not into this health kick .",
         "disgust",
         "inform",
         "",
         "5",
         "Ordinary_Life"
        ],
        [
         "22",
         "4",
         "Oh , no , get off it . It wasn ’ t such a killer class . You just have to get into it . Like they say , no pain , no gain .",
         "no_emotion",
         "directive",
         "",
         "5",
         "Ordinary_Life"
        ],
        [
         "23",
         "5",
         "I am wiped out . Thank you .",
         "no_emotion",
         "commissive",
         "",
         "5",
         "Ordinary_Life"
        ],
        [
         "24",
         "6",
         "Look , next time get yourself some comfy shoes . You ’ re gonna come back again with me , aren ’ t you ?",
         "no_emotion",
         "directive",
         "",
         "5",
         "Ordinary_Life"
        ],
        [
         "25",
         "7",
         "Never ! But thank you for inviting me .",
         "no_emotion",
         "commissive",
         "",
         "5",
         "Ordinary_Life"
        ],
        [
         "26",
         "8",
         "Come on . You ’ ll feel better after we hit the showers . __eou__",
         "no_emotion",
         "directive",
         "",
         "5",
         "Ordinary_Life"
        ],
        [
         "27",
         "0",
         "Can I take your order now or do you still want to look at the menu ?",
         "no_emotion",
         "question",
         "",
         "6",
         "Ordinary_Life"
        ],
        [
         "28",
         "1",
         "Well , I want a fillet steak , medium , but my little girl doesn't care for steak . Could she have something else instead ?",
         "no_emotion",
         "question",
         "",
         "6",
         "Ordinary_Life"
        ],
        [
         "29",
         "2",
         "Certainly . How about spaghetti with clams and shrimps .",
         "no_emotion",
         "directive",
         "",
         "6",
         "Ordinary_Life"
        ],
        [
         "30",
         "3",
         "Sounds delicious . OK . She'll try that . __eou__",
         "happiness",
         "commissive",
         "",
         "6",
         "Ordinary_Life"
        ],
        [
         "31",
         "0",
         "Can you manage chopsticks ?",
         "no_emotion",
         "question",
         "",
         "7",
         "Ordinary_Life"
        ],
        [
         "32",
         "1",
         "Why not ? See .",
         "no_emotion",
         "inform",
         "",
         "7",
         "Ordinary_Life"
        ],
        [
         "33",
         "2",
         "Good mastery . How do you like our Chinese food ?",
         "happiness",
         "question",
         "",
         "7",
         "Ordinary_Life"
        ],
        [
         "34",
         "3",
         "Oh , great ! It's delicious . You see , I am already putting on weight . There is one thing I don't like however , MSG .",
         "happiness",
         "inform",
         "",
         "7",
         "Ordinary_Life"
        ],
        [
         "35",
         "4",
         "What's wrong with MSG ? It helps to bring out the taste of the food .",
         "surprise",
         "question",
         "",
         "7",
         "Ordinary_Life"
        ],
        [
         "36",
         "5",
         "According to some studies it may cause cancer .",
         "no_emotion",
         "inform",
         "",
         "7",
         "Ordinary_Life"
        ],
        [
         "37",
         "6",
         "Oh , don't let that worry you . If that were true , China wouldn't have such a large population .",
         "no_emotion",
         "inform",
         "",
         "7",
         "Ordinary_Life"
        ],
        [
         "38",
         "7",
         "I just happen to have a question for you guys . Why do the Chinese cook the vegetables ? You see what I mean is that most vitamin are destroyed when heated .",
         "no_emotion",
         "question",
         "",
         "7",
         "Ordinary_Life"
        ],
        [
         "39",
         "8",
         "I don't know exactly . It's a tradition . Maybe it's for sanitary reasons . __eou__",
         "no_emotion",
         "inform",
         "",
         "7",
         "Ordinary_Life"
        ],
        [
         "40",
         "0",
         "I'm exhausted .",
         "no_emotion",
         "directive",
         "",
         "8",
         "Ordinary_Life"
        ],
        [
         "41",
         "1",
         "Okay , let's go home . __eou__",
         "no_emotion",
         "commissive",
         "",
         "8",
         "Ordinary_Life"
        ],
        [
         "42",
         "0",
         "Good evening . Welcome to Cherry's . Do you have a reservation ?",
         "no_emotion",
         "question",
         "",
         "9",
         "Ordinary_Life"
        ],
        [
         "43",
         "1",
         "No , we don't .",
         "no_emotion",
         "inform",
         "",
         "9",
         "Ordinary_Life"
        ],
        [
         "44",
         "2",
         "How many of you , please ?",
         "no_emotion",
         "question",
         "",
         "9",
         "Ordinary_Life"
        ],
        [
         "45",
         "3",
         "Six , including two kids .",
         "no_emotion",
         "inform",
         "",
         "9",
         "Ordinary_Life"
        ],
        [
         "46",
         "4",
         "I'm afraid all the big tables are taken . __eou__",
         "no_emotion",
         "inform",
         "",
         "9",
         "Ordinary_Life"
        ],
        [
         "47",
         "0",
         "What kind of food do you like ?",
         "no_emotion",
         "question",
         "",
         "10",
         "Ordinary_Life"
        ],
        [
         "48",
         "1",
         "I like Chinese food .",
         "happiness",
         "inform",
         "",
         "10",
         "Ordinary_Life"
        ],
        [
         "49",
         "2",
         "But your American ?",
         "surprise",
         "question",
         "",
         "10",
         "Ordinary_Life"
        ]
       ],
       "shape": {
        "columns": 7,
        "rows": 102968
       }
      },
      "text/html": [
       "<div>\n",
       "<style scoped>\n",
       "    .dataframe tbody tr th:only-of-type {\n",
       "        vertical-align: middle;\n",
       "    }\n",
       "\n",
       "    .dataframe tbody tr th {\n",
       "        vertical-align: top;\n",
       "    }\n",
       "\n",
       "    .dataframe thead th {\n",
       "        text-align: right;\n",
       "    }\n",
       "</style>\n",
       "<table border=\"1\" class=\"dataframe\">\n",
       "  <thead>\n",
       "    <tr style=\"text-align: right;\">\n",
       "      <th></th>\n",
       "      <th>turn</th>\n",
       "      <th>utterance</th>\n",
       "      <th>emotion</th>\n",
       "      <th>act</th>\n",
       "      <th>hat</th>\n",
       "      <th>dialogue_id</th>\n",
       "      <th>topic</th>\n",
       "    </tr>\n",
       "  </thead>\n",
       "  <tbody>\n",
       "    <tr>\n",
       "      <th>0</th>\n",
       "      <td>0</td>\n",
       "      <td>The kitchen stinks .</td>\n",
       "      <td>disgust</td>\n",
       "      <td>directive</td>\n",
       "      <td></td>\n",
       "      <td>0</td>\n",
       "      <td>Ordinary_Life</td>\n",
       "    </tr>\n",
       "    <tr>\n",
       "      <th>1</th>\n",
       "      <td>1</td>\n",
       "      <td>I'll throw out the garbage . __eou__</td>\n",
       "      <td>no_emotion</td>\n",
       "      <td>commissive</td>\n",
       "      <td></td>\n",
       "      <td>0</td>\n",
       "      <td>Ordinary_Life</td>\n",
       "    </tr>\n",
       "    <tr>\n",
       "      <th>2</th>\n",
       "      <td>0</td>\n",
       "      <td>So Dick , how about getting some coffee for to...</td>\n",
       "      <td>happiness</td>\n",
       "      <td>directive</td>\n",
       "      <td></td>\n",
       "      <td>1</td>\n",
       "      <td>Ordinary_Life</td>\n",
       "    </tr>\n",
       "    <tr>\n",
       "      <th>3</th>\n",
       "      <td>1</td>\n",
       "      <td>Coffee ? I don ’ t honestly like that kind of ...</td>\n",
       "      <td>disgust</td>\n",
       "      <td>commissive</td>\n",
       "      <td></td>\n",
       "      <td>1</td>\n",
       "      <td>Ordinary_Life</td>\n",
       "    </tr>\n",
       "    <tr>\n",
       "      <th>4</th>\n",
       "      <td>2</td>\n",
       "      <td>Come on , you can at least try a little , besi...</td>\n",
       "      <td>no_emotion</td>\n",
       "      <td>directive</td>\n",
       "      <td></td>\n",
       "      <td>1</td>\n",
       "      <td>Ordinary_Life</td>\n",
       "    </tr>\n",
       "    <tr>\n",
       "      <th>...</th>\n",
       "      <td>...</td>\n",
       "      <td>...</td>\n",
       "      <td>...</td>\n",
       "      <td>...</td>\n",
       "      <td>...</td>\n",
       "      <td>...</td>\n",
       "      <td>...</td>\n",
       "    </tr>\n",
       "    <tr>\n",
       "      <th>102963</th>\n",
       "      <td>10</td>\n",
       "      <td>Well , thank you very much for all that inform...</td>\n",
       "      <td>no_emotion</td>\n",
       "      <td>directive</td>\n",
       "      <td></td>\n",
       "      <td>13117</td>\n",
       "      <td>Finance</td>\n",
       "    </tr>\n",
       "    <tr>\n",
       "      <th>102964</th>\n",
       "      <td>11</td>\n",
       "      <td>Are you going to make an offer today ?</td>\n",
       "      <td>no_emotion</td>\n",
       "      <td>question</td>\n",
       "      <td></td>\n",
       "      <td>13117</td>\n",
       "      <td>Finance</td>\n",
       "    </tr>\n",
       "    <tr>\n",
       "      <th>102965</th>\n",
       "      <td>12</td>\n",
       "      <td>Yes . My customer is in urgent need of the ste...</td>\n",
       "      <td>no_emotion</td>\n",
       "      <td>inform</td>\n",
       "      <td></td>\n",
       "      <td>13117</td>\n",
       "      <td>Finance</td>\n",
       "    </tr>\n",
       "    <tr>\n",
       "      <th>102966</th>\n",
       "      <td>13</td>\n",
       "      <td>Ok , I'll get this rate right away .</td>\n",
       "      <td>no_emotion</td>\n",
       "      <td>commissive</td>\n",
       "      <td></td>\n",
       "      <td>13117</td>\n",
       "      <td>Finance</td>\n",
       "    </tr>\n",
       "    <tr>\n",
       "      <th>102967</th>\n",
       "      <td>14</td>\n",
       "      <td>Thank you . __eou__</td>\n",
       "      <td>happiness</td>\n",
       "      <td>inform</td>\n",
       "      <td></td>\n",
       "      <td>13117</td>\n",
       "      <td>Finance</td>\n",
       "    </tr>\n",
       "  </tbody>\n",
       "</table>\n",
       "<p>102968 rows × 7 columns</p>\n",
       "</div>"
      ],
      "text/plain": [
       "        turn                                          utterance     emotion  \\\n",
       "0          0                               The kitchen stinks .     disgust   \n",
       "1          1               I'll throw out the garbage . __eou__  no_emotion   \n",
       "2          0  So Dick , how about getting some coffee for to...   happiness   \n",
       "3          1  Coffee ? I don ’ t honestly like that kind of ...     disgust   \n",
       "4          2  Come on , you can at least try a little , besi...  no_emotion   \n",
       "...      ...                                                ...         ...   \n",
       "102963    10  Well , thank you very much for all that inform...  no_emotion   \n",
       "102964    11             Are you going to make an offer today ?  no_emotion   \n",
       "102965    12  Yes . My customer is in urgent need of the ste...  no_emotion   \n",
       "102966    13               Ok , I'll get this rate right away .  no_emotion   \n",
       "102967    14                                Thank you . __eou__   happiness   \n",
       "\n",
       "               act hat  dialogue_id          topic  \n",
       "0        directive                0  Ordinary_Life  \n",
       "1       commissive                0  Ordinary_Life  \n",
       "2        directive                1  Ordinary_Life  \n",
       "3       commissive                1  Ordinary_Life  \n",
       "4        directive                1  Ordinary_Life  \n",
       "...            ...  ..          ...            ...  \n",
       "102963   directive            13117        Finance  \n",
       "102964    question            13117        Finance  \n",
       "102965      inform            13117        Finance  \n",
       "102966  commissive            13117        Finance  \n",
       "102967      inform            13117        Finance  \n",
       "\n",
       "[102968 rows x 7 columns]"
      ]
     },
     "execution_count": 4,
     "metadata": {},
     "output_type": "execute_result"
    }
   ],
   "source": [
    "refactor_df = refactor(df)\n",
    "refactor_df"
   ]
  },
  {
   "cell_type": "code",
   "execution_count": 5,
   "id": "3e917c07",
   "metadata": {},
   "outputs": [
    {
     "name": "stderr",
     "output_type": "stream",
     "text": [
      "/home/atlas/hlt/HLT/venv_hlt/lib/python3.10/site-packages/tqdm/auto.py:21: TqdmWarning: IProgress not found. Please update jupyter and ipywidgets. See https://ipywidgets.readthedocs.io/en/stable/user_install.html\n",
      "  from .autonotebook import tqdm as notebook_tqdm\n"
     ]
    }
   ],
   "source": [
    "import torch\n",
    "from transformers import AutoTokenizer, AutoModelForCausalLM, BitsAndBytesConfig"
   ]
  },
  {
   "cell_type": "code",
   "execution_count": 6,
   "id": "3dffc16a",
   "metadata": {},
   "outputs": [],
   "source": [
    "# 1) Scegli il checkpoint quantizzato 4‑bit (gguf/q4_0) su HF\n",
    "model_name = \"mistralai/Mistral-7B-Instruct-v0.3\""
   ]
  },
  {
   "cell_type": "code",
   "execution_count": null,
   "id": "f72c88d1",
   "metadata": {},
   "outputs": [],
   "source": [
    "!export HUGGINGFACE_HUB_TOKEN=\"\""
   ]
  },
  {
   "cell_type": "code",
   "execution_count": 8,
   "id": "2c591197",
   "metadata": {},
   "outputs": [],
   "source": [
    "# 2) Carica tokenizer\n",
    "tokenizer = AutoTokenizer.from_pretrained(model_name, trust_remote_code=True)"
   ]
  },
  {
   "cell_type": "code",
   "execution_count": 9,
   "id": "1e2aa604",
   "metadata": {},
   "outputs": [],
   "source": [
    "# 3) Configurazione 4‑bit\n",
    "bnb_config = BitsAndBytesConfig(\n",
    "    load_in_4bit=True,\n",
    "    bnb_4bit_quant_type=\"nf4\",\n",
    "    bnb_4bit_compute_dtype=torch.float16\n",
    ")"
   ]
  },
  {
   "cell_type": "code",
   "execution_count": 10,
   "id": "921c9eb9",
   "metadata": {},
   "outputs": [
    {
     "name": "stderr",
     "output_type": "stream",
     "text": [
      "Loading checkpoint shards: 100%|██████████| 3/3 [00:25<00:00,  8.35s/it]\n"
     ]
    },
    {
     "data": {
      "text/plain": [
       "MistralForCausalLM(\n",
       "  (model): MistralModel(\n",
       "    (embed_tokens): Embedding(32768, 4096)\n",
       "    (layers): ModuleList(\n",
       "      (0-31): 32 x MistralDecoderLayer(\n",
       "        (self_attn): MistralAttention(\n",
       "          (q_proj): Linear4bit(in_features=4096, out_features=4096, bias=False)\n",
       "          (k_proj): Linear4bit(in_features=4096, out_features=1024, bias=False)\n",
       "          (v_proj): Linear4bit(in_features=4096, out_features=1024, bias=False)\n",
       "          (o_proj): Linear4bit(in_features=4096, out_features=4096, bias=False)\n",
       "        )\n",
       "        (mlp): MistralMLP(\n",
       "          (gate_proj): Linear4bit(in_features=4096, out_features=14336, bias=False)\n",
       "          (up_proj): Linear4bit(in_features=4096, out_features=14336, bias=False)\n",
       "          (down_proj): Linear4bit(in_features=14336, out_features=4096, bias=False)\n",
       "          (act_fn): SiLU()\n",
       "        )\n",
       "        (input_layernorm): MistralRMSNorm((4096,), eps=1e-05)\n",
       "        (post_attention_layernorm): MistralRMSNorm((4096,), eps=1e-05)\n",
       "      )\n",
       "    )\n",
       "    (norm): MistralRMSNorm((4096,), eps=1e-05)\n",
       "    (rotary_emb): MistralRotaryEmbedding()\n",
       "  )\n",
       "  (lm_head): Linear(in_features=4096, out_features=32768, bias=False)\n",
       ")"
      ]
     },
     "execution_count": 10,
     "metadata": {},
     "output_type": "execute_result"
    }
   ],
   "source": [
    "max_mem = {\n",
    "    0: 5_300 * 1024**2,      # GPU 0\n",
    "    \"cpu\": 60 * 1024**3,     # tutto ciò che non sta in GPU\n",
    "}\n",
    "\n",
    "# 4) Carica modello su GPU (device_map=\"auto\" sposta layer su GPU fino a saturazione)\n",
    "model = AutoModelForCausalLM.from_pretrained(\n",
    "    model_name,\n",
    "    device_map=\"auto\",\n",
    "    quantization_config=bnb_config,\n",
    "    max_memory=max_mem,\n",
    "    trust_remote_code=True\n",
    ")\n",
    "model.eval()"
   ]
  },
  {
   "cell_type": "code",
   "execution_count": 11,
   "id": "a566606f",
   "metadata": {},
   "outputs": [],
   "source": [
    "# 5) Definisci la “definizione” da ripassare al modello:\n",
    "prompt_prefix = \"\"\"\n",
    "Definition: A green hat is the hat of creativity. \n",
    "Under the green hat you are permitted to put forward 'possibilities'. \n",
    "It is under the green hat that suggested courses of action are put forward: 'We could do this, or this, or this.' \n",
    "The green hat includes both 'the top of the head' creativity and 'deliberate' creativity. \n",
    "New ideas, new concepts and new perceptions. The deliberate creation of new ideas. \n",
    "Alternatives and more alternatives. Change. New approaches to problems. \n",
    "Label the next utternace as a green hat or not.\n",
    "Answer only with \"Y\" for yes or \"N\" for No.\n",
    "\"\"\""
   ]
  },
  {
   "cell_type": "code",
   "execution_count": 12,
   "id": "e6ecbf61",
   "metadata": {},
   "outputs": [],
   "source": [
    "# 6) Funzione di classification\n",
    "def is_green_hat(phrases):\n",
    "    results = []\n",
    "    for text in phrases:\n",
    "        prompt = str(prompt_prefix) + f'\\nUtterance: \"{text}\"\\nAnswer:'\n",
    "        inputs = tokenizer(prompt, return_tensors=\"pt\", truncation=True, max_length=512).to(model.device)\n",
    "        with torch.no_grad():\n",
    "            out = model.generate(\n",
    "                **inputs,\n",
    "                max_new_tokens=1,\n",
    "                do_sample=False,\n",
    "                eos_token_id=tokenizer.eos_token_id,\n",
    "                pad_token_id=tokenizer.eos_token_id\n",
    "            )\n",
    "        reply = tokenizer.decode(out[0][ inputs[\"input_ids\"].shape[-1]: ], skip_special_tokens=True).strip()\n",
    "        # print(\"reply: \"+reply)\n",
    "        results.append(reply)\n",
    "    return results"
   ]
  },
  {
   "cell_type": "code",
   "execution_count": 65,
   "id": "fe0b3137",
   "metadata": {},
   "outputs": [
    {
     "name": "stdout",
     "output_type": "stream",
     "text": [
      "['Y', 'Y', 'Y', 'Y', 'N', 'Y', 'Y', 'Y', 'Y', 'Y', 'Y', 'Y', 'Y', 'N', 'Y']\n"
     ]
    }
   ],
   "source": [
    "# 7) Esempio d’uso:\n",
    "test_sentences = [\n",
    "    \"Shoppers usually pay for the goods they buy. Let us reverse that. Po, the store pays the customers\",\n",
    "    \"Po cars should have square wheels\",\n",
    "    \"Po planes should land upside down\",\n",
    "    \"Po shoppers should be paid to buy things\",\n",
    "    \"Po executives should promote themselves\",\n",
    "    \"Po a polluting factory should be downstream of itself\",\n",
    "    \"Shoppers usually pay for the goods they buy. Let us reverse that. Po, the store pays the customers\",\n",
    "    \"This could lead to the trading stamp idea, which, in effect, paid shoppers a tiny amount for each purchase\",\n",
    "    \"This could lead to the idea that the tills are set up so that at every thousand dollars of input they pay out a jackpot of some sort\",\n",
    "    \"I do not see how your idea of an ‘honour system’ store could ever work because it could so easily be abused. But I am going to put on my  hat to treat it as a provocation. That leads to the idea of people adding up their own bills with random checks. Presumably mistakes would even out in each direction\",\n",
    "    \"So we have cigarette po frog. A frog suggests hopping, so we could have a cigarette that went out after a short while. This might be of benefit in preventing fires. It could also allow a smoker to have a short smoke and then to use that cigarette later. This in turn leads to a new brand to be called  shorts , which are indeed designed to be very short and give only a two- to three- minute smoke\",\n",
    "    \"I want some ideas to do with television sets. The random word is cheese, so television po cheese. Cheese has holes, Po the TV screen has holes\",\n",
    "    \"Our rival newspaper has just raised its price. Put on your  hat and list all our alternatives\",\n",
    "    \"There are only three possible alternatives. We can leave the price the same. We can lower it. Or, we can raise it. There is nothing else we can do\",\n",
    "    \"What I really want to do is both to raise and lower the price at the same time. We shall create a low price commodity line and a high price premium line\"\n",
    "]\n",
    "\n",
    "print(is_green_hat(test_sentences))"
   ]
  },
  {
   "cell_type": "code",
   "execution_count": 66,
   "id": "3e09fa5b",
   "metadata": {},
   "outputs": [
    {
     "name": "stdout",
     "output_type": "stream",
     "text": [
      "['N', 'N', 'N', 'N', 'N', 'N', 'N', 'N', 'N', 'Y', 'Y', 'N', 'N', 'N', 'Y', 'N', 'N']\n"
     ]
    }
   ],
   "source": [
    "test_sentences = [\n",
    "    \"My feeling is that boredom is responsible for much juvenile crime\",\n",
    "    \"My feeling is that the cinema box office wants a few spectaculars that are heavily promoted\",\n",
    "    \"I feel we are being bullied into an agreement we do not want\",\n",
    "    \"You never listen to anyone else\",\n",
    "    \"I am very pleased with the way this conference is going. Is that the general view\",\n",
    "    \"My feeling is that we all want to get this agreement settled and signed\",\n",
    "    \"Don’t look at it as a defeat. Look at it as a powerful way of finding out the weaknesses and strengths of his tennis game\",\n",
    "    \"Would this offer be acceptable if it were to come as an initiative from your side\",\n",
    "    \"Write it off as an essential learning experience rather than an error in judgement. Learning is always expensive. We won’t have to go through it again\",\n",
    "    \"We all know that these negotiations are taking place against a background of extreme suspicion. Let us try to imagine what our thinking would be if each side really trusted the other side\",\n",
    "    \"There is a feeling that what we decide here is not going to make much difference. Events have taken over. Let us imagine that this is not so and that we do have it in our power to control things\",\n",
    "    \"We do have to be conscious of the background of anger that is present\",\n",
    "    \"The proposed restriction on your work for competing companies is obviously a sensitive point. We’ll keep clear of that for the moment\",\n",
    "    \"The union executive is never going to agree to anything that comes across as a wage cut. That has been expressed forcibly enough\",\n",
    "    \"The ability to cross union demarcation lines is very important to our productivity\",\n",
    "    \"We must insist that the proper disciplinary procedures be followed. We are not saying that Jones is innocent but the procedures laid down must be followed\",\n",
    "    \"I do not feel that lowering prices will actually increase sales\"\n",
    "]\n",
    "\n",
    "print(is_green_hat(test_sentences))"
   ]
  },
  {
   "cell_type": "code",
   "execution_count": null,
   "id": "50b1b129",
   "metadata": {},
   "outputs": [
    {
     "data": {
      "application/vnd.microsoft.datawrangler.viewer.v0+json": {
       "columns": [
        {
         "name": "index",
         "rawType": "int64",
         "type": "integer"
        },
        {
         "name": "turn",
         "rawType": "int64",
         "type": "integer"
        },
        {
         "name": "utterance",
         "rawType": "object",
         "type": "string"
        },
        {
         "name": "emotion",
         "rawType": "object",
         "type": "string"
        },
        {
         "name": "act",
         "rawType": "object",
         "type": "string"
        },
        {
         "name": "hat",
         "rawType": "object",
         "type": "string"
        },
        {
         "name": "dialogue_id",
         "rawType": "int64",
         "type": "integer"
        },
        {
         "name": "topic",
         "rawType": "object",
         "type": "string"
        }
       ],
       "ref": "b30aacef-11e2-4eba-8120-1f55c39ecd73",
       "rows": [
        [
         "0",
         "0",
         "Hi , Sven , can you help me ? Could you hold the end of the tape measure , please ?",
         "no_emotion",
         "directive",
         "",
         "10849",
         "Work"
        ],
        [
         "1",
         "1",
         "Of course , where do you want me to stand ?",
         "no_emotion",
         "question",
         "",
         "10849",
         "Work"
        ],
        [
         "2",
         "2",
         "Just there by the door . I need to measure the length of this workbench . We're going to replace it . OK - 3 m 47 cm . Let's round it up to 3 m 50 .",
         "no_emotion",
         "inform",
         "",
         "10849",
         "Work"
        ],
        [
         "3",
         "3",
         "I'm glad you're replacing it . We need more space to work on things . How deep will the new workbench be ?",
         "no_emotion",
         "question",
         "",
         "10849",
         "Work"
        ],
        [
         "4",
         "4",
         "Tell me what size you want and I'll order the wood .",
         "no_emotion",
         "directive",
         "",
         "10849",
         "Work"
        ],
        [
         "5",
         "5",
         "Well , it's about 65 cm at the moment . Could we increase it by about a third ?",
         "no_emotion",
         "directive",
         "",
         "10849",
         "Work"
        ],
        [
         "6",
         "6",
         "Sure . So let's see . We need a piece of wood 3.5 m long by 1 m wide . I'll order it right away and I'll be able to install it next Tuesday . __eou__",
         "no_emotion",
         "commissive",
         "",
         "10849",
         "Work"
        ],
        [
         "7",
         "0",
         "Has my package arrived ?",
         "no_emotion",
         "question",
         "",
         "10850",
         "Work"
        ],
        [
         "8",
         "1",
         "I'm not sure . What does it look like ?",
         "no_emotion",
         "question",
         "",
         "10850",
         "Work"
        ],
        [
         "9",
         "2",
         "It's quite a delicate piece of equipment , so I hope it was well-packed . It's oblong-shaped , about 50 cm long . It's made of metal .",
         "no_emotion",
         "inform",
         "",
         "10850",
         "Work"
        ],
        [
         "10",
         "3",
         "There's a large wooden crate in the corner which I haven't unpacked yet . It might be in there . __eou__",
         "no_emotion",
         "inform",
         "",
         "10850",
         "Work"
        ],
        [
         "11",
         "0",
         "OK , so this is the main factory area . We're now walking past the printing machine . It's printing in four colours at the moment .",
         "no_emotion",
         "inform",
         "",
         "10851",
         "Work"
        ],
        [
         "12",
         "1",
         "What's going on over there ?",
         "no_emotion",
         "question",
         "",
         "10851",
         "Work"
        ],
        [
         "13",
         "2",
         "They're setting up the machine for a new run .",
         "no_emotion",
         "inform",
         "",
         "10851",
         "Work"
        ],
        [
         "14",
         "3",
         "How long does that usually take ?",
         "no_emotion",
         "question",
         "",
         "10851",
         "Work"
        ],
        [
         "15",
         "4",
         "About twenty minutes .",
         "no_emotion",
         "inform",
         "",
         "10851",
         "Work"
        ],
        [
         "16",
         "5",
         "What's happening at the far end ?",
         "no_emotion",
         "question",
         "",
         "10851",
         "Work"
        ],
        [
         "17",
         "6",
         "That's the packing line . The goods are being wrapped and loaded onto pallets ready for transportation . __eou__",
         "no_emotion",
         "inform",
         "",
         "10851",
         "Work"
        ],
        [
         "18",
         "0",
         "I think your presentation impressed the client , Daniel . You did a good job .",
         "happiness",
         "inform",
         "",
         "10852",
         "Work"
        ],
        [
         "19",
         "1",
         "Thank you , Mr . Cooper . I hope we get the contract . __eou__",
         "happiness",
         "inform",
         "",
         "10852",
         "Work"
        ],
        [
         "20",
         "0",
         "Would you like me to show you our new cleaning unit ? It's a clever design .",
         "no_emotion",
         "directive",
         "",
         "10853",
         "Work"
        ],
        [
         "21",
         "1",
         "Yes , I'd like to see that . What does it clean exactly ?",
         "no_emotion",
         "question",
         "",
         "10853",
         "Work"
        ],
        [
         "22",
         "2",
         "It washes the solvent off all the metal parts - the blades , trays etc . - and then sends it back into the system .",
         "no_emotion",
         "inform",
         "",
         "10853",
         "Work"
        ],
        [
         "23",
         "3",
         "What does the unit consist of ?",
         "no_emotion",
         "question",
         "",
         "10853",
         "Work"
        ],
        [
         "24",
         "4",
         "Well , it's basically two tanks – one for the dirty solvent and one for the clean solvent , a pump and a washing unit . Oh , and there ’ s a cooling system and a filter . It's all controlled by a PLC system – that stands for Process Logic Control . __eou__",
         "no_emotion",
         "inform",
         "",
         "10853",
         "Work"
        ],
        [
         "25",
         "0",
         "Good morning , everybody . Welcome to IAM Technology . I'm very pleased so many of you could make it here today . My name's Sam Weiss . I'm the Production Manager . I'd like to show you the layout of the factory before we go and visit it . As you can see from this diagram , everything is under one roof . We've designed it this way to help the flow of materials and to avoid bottlenecks .",
         "no_emotion",
         "directive",
         "",
         "10854",
         "Work"
        ],
        [
         "26",
         "1",
         "This area here is where we keep our raw materials . The main production area - our machine hall - is situated next to it . Maintenance is situated between the stores and the production area . Just to the right of Maintenance , there are steps up to the Lab and the Admin Section . Process Control is also on the upper level . It's located above the factory floor so that the operators can monitor everything that is going on below . __eou__",
         "no_emotion",
         "inform",
         "",
         "10854",
         "Work"
        ],
        [
         "27",
         "0",
         "OK , so this is our newest machine . It was only installed last year .",
         "no_emotion",
         "inform",
         "",
         "10855",
         "Work"
        ],
        [
         "28",
         "1",
         "What's the running speed of the machine ?",
         "no_emotion",
         "question",
         "",
         "10855",
         "Work"
        ],
        [
         "29",
         "2",
         "About 1,500 metres per minute . It's one of the fastest in the world . We had a few problems with it after start-up but it's running very well now .",
         "no_emotion",
         "inform",
         "",
         "10855",
         "Work"
        ],
        [
         "30",
         "3",
         "And what's the maximum output ?",
         "no_emotion",
         "question",
         "",
         "10855",
         "Work"
        ],
        [
         "31",
         "4",
         "If we're running at full capacity , it's 160,000 tonnes per annum . __eou__",
         "no_emotion",
         "inform",
         "",
         "10855",
         "Work"
        ],
        [
         "32",
         "0",
         "Is the factory fully-automated ?",
         "no_emotion",
         "question",
         "",
         "10856",
         "Work"
        ],
        [
         "33",
         "1",
         "Not completely . Our production process is partially-automated . We use robots on the production line for routine assembly jobs but some of the work is still done manually .",
         "no_emotion",
         "inform",
         "",
         "10856",
         "Work"
        ],
        [
         "34",
         "2",
         "What about supply of parts to the production line ?",
         "no_emotion",
         "question",
         "",
         "10856",
         "Work"
        ],
        [
         "35",
         "3",
         "Well , the parts are automatically selected from the store room using a bar-code system . And there is an automatic feeder which takes them to the conveyor belt at the start of the production line .",
         "no_emotion",
         "inform",
         "",
         "10856",
         "Work"
        ],
        [
         "36",
         "4",
         "What about the smaller components ?",
         "no_emotion",
         "question",
         "",
         "10856",
         "Work"
        ],
        [
         "37",
         "5",
         "They're transported to the workstations on automated vehicles - robot trucks - which run on guide rails around the factory . __eou__",
         "no_emotion",
         "inform",
         "",
         "10856",
         "Work"
        ],
        [
         "38",
         "0",
         "Could you explain the paper-making process to us - in very simple terms - please ?",
         "no_emotion",
         "directive",
         "",
         "10857",
         "Work"
        ],
        [
         "39",
         "1",
         "Well , the pulp falls from a box onto the first part of the paper machine , which is basically a wire bed with large holes in it , where most of the water is extracted .",
         "no_emotion",
         "inform",
         "",
         "10857",
         "Work"
        ],
        [
         "40",
         "2",
         "So , is it actually paper at this stage ?",
         "no_emotion",
         "question",
         "",
         "10857",
         "Work"
        ],
        [
         "41",
         "3",
         "Yes , it is . But we need to take out more water . So it then passes through a series of rollers , where more water is squeezed out . After that it goes through the dryers , which are at a very high temperature . The paper is then coated . And finally it's wound onto reels and cut down into smaller lengths . __eou__",
         "no_emotion",
         "inform",
         "",
         "10857",
         "Work"
        ],
        [
         "42",
         "0",
         "How do you dispose of the waste in your factory ?",
         "no_emotion",
         "question",
         "",
         "10858",
         "Work"
        ],
        [
         "43",
         "1",
         "We try to recycle as much as we can .",
         "no_emotion",
         "inform",
         "",
         "10858",
         "Work"
        ],
        [
         "44",
         "2",
         "What about the rest ? How do you get rid of it ?",
         "no_emotion",
         "question",
         "",
         "10858",
         "Work"
        ],
        [
         "45",
         "3",
         "We have to send it to landfill . It's very expensive because the government recently introduced a landfill tax so we're planning to build a new incineration plant next year to burn our waste .",
         "no_emotion",
         "inform",
         "",
         "10858",
         "Work"
        ],
        [
         "46",
         "4",
         "But doesn't incineration produce carbon monoxide ?",
         "no_emotion",
         "question",
         "",
         "10858",
         "Work"
        ],
        [
         "47",
         "5",
         "Yes , you're right , it does . But we believe it's less harmful to the environment than landfill __eou__",
         "no_emotion",
         "inform",
         "",
         "10858",
         "Work"
        ],
        [
         "48",
         "0",
         "Has your company been affected much by government legislation ?",
         "no_emotion",
         "question",
         "",
         "10859",
         "Work"
        ],
        [
         "49",
         "1",
         "Yes , we have . We've had to clean up our production process a lot to meet tough government standards .",
         "no_emotion",
         "inform",
         "",
         "10859",
         "Work"
        ]
       ],
       "shape": {
        "columns": 7,
        "rows": 18268
       }
      },
      "text/html": [
       "<div>\n",
       "<style scoped>\n",
       "    .dataframe tbody tr th:only-of-type {\n",
       "        vertical-align: middle;\n",
       "    }\n",
       "\n",
       "    .dataframe tbody tr th {\n",
       "        vertical-align: top;\n",
       "    }\n",
       "\n",
       "    .dataframe thead th {\n",
       "        text-align: right;\n",
       "    }\n",
       "</style>\n",
       "<table border=\"1\" class=\"dataframe\">\n",
       "  <thead>\n",
       "    <tr style=\"text-align: right;\">\n",
       "      <th></th>\n",
       "      <th>turn</th>\n",
       "      <th>utterance</th>\n",
       "      <th>emotion</th>\n",
       "      <th>act</th>\n",
       "      <th>hat</th>\n",
       "      <th>dialogue_id</th>\n",
       "      <th>topic</th>\n",
       "    </tr>\n",
       "  </thead>\n",
       "  <tbody>\n",
       "    <tr>\n",
       "      <th>0</th>\n",
       "      <td>0</td>\n",
       "      <td>Hi , Sven , can you help me ? Could you hold t...</td>\n",
       "      <td>no_emotion</td>\n",
       "      <td>directive</td>\n",
       "      <td></td>\n",
       "      <td>10849</td>\n",
       "      <td>Work</td>\n",
       "    </tr>\n",
       "    <tr>\n",
       "      <th>1</th>\n",
       "      <td>1</td>\n",
       "      <td>Of course , where do you want me to stand ?</td>\n",
       "      <td>no_emotion</td>\n",
       "      <td>question</td>\n",
       "      <td></td>\n",
       "      <td>10849</td>\n",
       "      <td>Work</td>\n",
       "    </tr>\n",
       "    <tr>\n",
       "      <th>2</th>\n",
       "      <td>2</td>\n",
       "      <td>Just there by the door . I need to measure the...</td>\n",
       "      <td>no_emotion</td>\n",
       "      <td>inform</td>\n",
       "      <td></td>\n",
       "      <td>10849</td>\n",
       "      <td>Work</td>\n",
       "    </tr>\n",
       "    <tr>\n",
       "      <th>3</th>\n",
       "      <td>3</td>\n",
       "      <td>I'm glad you're replacing it . We need more sp...</td>\n",
       "      <td>no_emotion</td>\n",
       "      <td>question</td>\n",
       "      <td></td>\n",
       "      <td>10849</td>\n",
       "      <td>Work</td>\n",
       "    </tr>\n",
       "    <tr>\n",
       "      <th>4</th>\n",
       "      <td>4</td>\n",
       "      <td>Tell me what size you want and I'll order the ...</td>\n",
       "      <td>no_emotion</td>\n",
       "      <td>directive</td>\n",
       "      <td></td>\n",
       "      <td>10849</td>\n",
       "      <td>Work</td>\n",
       "    </tr>\n",
       "    <tr>\n",
       "      <th>...</th>\n",
       "      <td>...</td>\n",
       "      <td>...</td>\n",
       "      <td>...</td>\n",
       "      <td>...</td>\n",
       "      <td>...</td>\n",
       "      <td>...</td>\n",
       "      <td>...</td>\n",
       "    </tr>\n",
       "    <tr>\n",
       "      <th>18263</th>\n",
       "      <td>10</td>\n",
       "      <td>Well , thank you very much for all that inform...</td>\n",
       "      <td>no_emotion</td>\n",
       "      <td>directive</td>\n",
       "      <td></td>\n",
       "      <td>13117</td>\n",
       "      <td>Finance</td>\n",
       "    </tr>\n",
       "    <tr>\n",
       "      <th>18264</th>\n",
       "      <td>11</td>\n",
       "      <td>Are you going to make an offer today ?</td>\n",
       "      <td>no_emotion</td>\n",
       "      <td>question</td>\n",
       "      <td></td>\n",
       "      <td>13117</td>\n",
       "      <td>Finance</td>\n",
       "    </tr>\n",
       "    <tr>\n",
       "      <th>18265</th>\n",
       "      <td>12</td>\n",
       "      <td>Yes . My customer is in urgent need of the ste...</td>\n",
       "      <td>no_emotion</td>\n",
       "      <td>inform</td>\n",
       "      <td></td>\n",
       "      <td>13117</td>\n",
       "      <td>Finance</td>\n",
       "    </tr>\n",
       "    <tr>\n",
       "      <th>18266</th>\n",
       "      <td>13</td>\n",
       "      <td>Ok , I'll get this rate right away .</td>\n",
       "      <td>no_emotion</td>\n",
       "      <td>commissive</td>\n",
       "      <td></td>\n",
       "      <td>13117</td>\n",
       "      <td>Finance</td>\n",
       "    </tr>\n",
       "    <tr>\n",
       "      <th>18267</th>\n",
       "      <td>14</td>\n",
       "      <td>Thank you . __eou__</td>\n",
       "      <td>happiness</td>\n",
       "      <td>inform</td>\n",
       "      <td></td>\n",
       "      <td>13117</td>\n",
       "      <td>Finance</td>\n",
       "    </tr>\n",
       "  </tbody>\n",
       "</table>\n",
       "<p>18268 rows × 7 columns</p>\n",
       "</div>"
      ],
      "text/plain": [
       "       turn                                          utterance     emotion  \\\n",
       "0         0  Hi , Sven , can you help me ? Could you hold t...  no_emotion   \n",
       "1         1        Of course , where do you want me to stand ?  no_emotion   \n",
       "2         2  Just there by the door . I need to measure the...  no_emotion   \n",
       "3         3  I'm glad you're replacing it . We need more sp...  no_emotion   \n",
       "4         4  Tell me what size you want and I'll order the ...  no_emotion   \n",
       "...     ...                                                ...         ...   \n",
       "18263    10  Well , thank you very much for all that inform...  no_emotion   \n",
       "18264    11             Are you going to make an offer today ?  no_emotion   \n",
       "18265    12  Yes . My customer is in urgent need of the ste...  no_emotion   \n",
       "18266    13               Ok , I'll get this rate right away .  no_emotion   \n",
       "18267    14                                Thank you . __eou__   happiness   \n",
       "\n",
       "              act hat  dialogue_id    topic  \n",
       "0       directive            10849     Work  \n",
       "1        question            10849     Work  \n",
       "2          inform            10849     Work  \n",
       "3        question            10849     Work  \n",
       "4       directive            10849     Work  \n",
       "...           ...  ..          ...      ...  \n",
       "18263   directive            13117  Finance  \n",
       "18264    question            13117  Finance  \n",
       "18265      inform            13117  Finance  \n",
       "18266  commissive            13117  Finance  \n",
       "18267      inform            13117  Finance  \n",
       "\n",
       "[18268 rows x 7 columns]"
      ]
     },
     "execution_count": 13,
     "metadata": {},
     "output_type": "execute_result"
    }
   ],
   "source": [
    "# skip the first 37000 lines\n",
    "df = refactor_df.iloc[89300:]\n",
    "# reset the index\n",
    "df = df.reset_index(drop=True)\n",
    "df"
   ]
  },
  {
   "cell_type": "code",
   "execution_count": 14,
   "id": "b8103cb2",
   "metadata": {},
   "outputs": [
    {
     "name": "stderr",
     "output_type": "stream",
     "text": [
      " 25%|██▌       | 4603/18268 [22:06<1:05:37,  3.47it/s]\n"
     ]
    },
    {
     "ename": "KeyboardInterrupt",
     "evalue": "",
     "output_type": "error",
     "traceback": [
      "\u001b[0;31m---------------------------------------------------------------------------\u001b[0m",
      "\u001b[0;31mKeyboardInterrupt\u001b[0m                         Traceback (most recent call last)",
      "Cell \u001b[0;32mIn[14], line 24\u001b[0m\n\u001b[1;32m     22\u001b[0m \u001b[38;5;28;01mfor\u001b[39;00m idx \u001b[38;5;129;01min\u001b[39;00m tqdm(\u001b[38;5;28mrange\u001b[39m(\u001b[38;5;28mlen\u001b[39m(df))):\n\u001b[1;32m     23\u001b[0m     text \u001b[38;5;241m=\u001b[39m df\u001b[38;5;241m.\u001b[39mat[idx, \u001b[38;5;124m'\u001b[39m\u001b[38;5;124mutterance\u001b[39m\u001b[38;5;124m'\u001b[39m]\u001b[38;5;241m.\u001b[39mreplace(\u001b[38;5;124m\"\u001b[39m\u001b[38;5;124m__eou__\u001b[39m\u001b[38;5;124m\"\u001b[39m, \u001b[38;5;124m\"\u001b[39m\u001b[38;5;124m\"\u001b[39m)\n\u001b[0;32m---> 24\u001b[0m     pred \u001b[38;5;241m=\u001b[39m \u001b[43mis_green_hat\u001b[49m\u001b[43m(\u001b[49m\u001b[43m[\u001b[49m\u001b[43mtext\u001b[49m\u001b[43m]\u001b[49m\u001b[43m)\u001b[49m[\u001b[38;5;241m0\u001b[39m]\n\u001b[1;32m     25\u001b[0m     df\u001b[38;5;241m.\u001b[39mat[idx, \u001b[38;5;124m'\u001b[39m\u001b[38;5;124mhat\u001b[39m\u001b[38;5;124m'\u001b[39m] \u001b[38;5;241m=\u001b[39m pred\n\u001b[1;32m     27\u001b[0m     \u001b[38;5;66;03m# Ogni 100 righe faccio append al file\u001b[39;00m\n",
      "Cell \u001b[0;32mIn[12], line 8\u001b[0m, in \u001b[0;36mis_green_hat\u001b[0;34m(phrases)\u001b[0m\n\u001b[1;32m      6\u001b[0m inputs \u001b[38;5;241m=\u001b[39m tokenizer(prompt, return_tensors\u001b[38;5;241m=\u001b[39m\u001b[38;5;124m\"\u001b[39m\u001b[38;5;124mpt\u001b[39m\u001b[38;5;124m\"\u001b[39m, truncation\u001b[38;5;241m=\u001b[39m\u001b[38;5;28;01mTrue\u001b[39;00m, max_length\u001b[38;5;241m=\u001b[39m\u001b[38;5;241m512\u001b[39m)\u001b[38;5;241m.\u001b[39mto(model\u001b[38;5;241m.\u001b[39mdevice)\n\u001b[1;32m      7\u001b[0m \u001b[38;5;28;01mwith\u001b[39;00m torch\u001b[38;5;241m.\u001b[39mno_grad():\n\u001b[0;32m----> 8\u001b[0m     out \u001b[38;5;241m=\u001b[39m \u001b[43mmodel\u001b[49m\u001b[38;5;241;43m.\u001b[39;49m\u001b[43mgenerate\u001b[49m\u001b[43m(\u001b[49m\n\u001b[1;32m      9\u001b[0m \u001b[43m        \u001b[49m\u001b[38;5;241;43m*\u001b[39;49m\u001b[38;5;241;43m*\u001b[39;49m\u001b[43minputs\u001b[49m\u001b[43m,\u001b[49m\n\u001b[1;32m     10\u001b[0m \u001b[43m        \u001b[49m\u001b[43mmax_new_tokens\u001b[49m\u001b[38;5;241;43m=\u001b[39;49m\u001b[38;5;241;43m1\u001b[39;49m\u001b[43m,\u001b[49m\n\u001b[1;32m     11\u001b[0m \u001b[43m        \u001b[49m\u001b[43mdo_sample\u001b[49m\u001b[38;5;241;43m=\u001b[39;49m\u001b[38;5;28;43;01mFalse\u001b[39;49;00m\u001b[43m,\u001b[49m\n\u001b[1;32m     12\u001b[0m \u001b[43m        \u001b[49m\u001b[43meos_token_id\u001b[49m\u001b[38;5;241;43m=\u001b[39;49m\u001b[43mtokenizer\u001b[49m\u001b[38;5;241;43m.\u001b[39;49m\u001b[43meos_token_id\u001b[49m\u001b[43m,\u001b[49m\n\u001b[1;32m     13\u001b[0m \u001b[43m        \u001b[49m\u001b[43mpad_token_id\u001b[49m\u001b[38;5;241;43m=\u001b[39;49m\u001b[43mtokenizer\u001b[49m\u001b[38;5;241;43m.\u001b[39;49m\u001b[43meos_token_id\u001b[49m\n\u001b[1;32m     14\u001b[0m \u001b[43m    \u001b[49m\u001b[43m)\u001b[49m\n\u001b[1;32m     15\u001b[0m reply \u001b[38;5;241m=\u001b[39m tokenizer\u001b[38;5;241m.\u001b[39mdecode(out[\u001b[38;5;241m0\u001b[39m][ inputs[\u001b[38;5;124m\"\u001b[39m\u001b[38;5;124minput_ids\u001b[39m\u001b[38;5;124m\"\u001b[39m]\u001b[38;5;241m.\u001b[39mshape[\u001b[38;5;241m-\u001b[39m\u001b[38;5;241m1\u001b[39m]: ], skip_special_tokens\u001b[38;5;241m=\u001b[39m\u001b[38;5;28;01mTrue\u001b[39;00m)\u001b[38;5;241m.\u001b[39mstrip()\n\u001b[1;32m     16\u001b[0m \u001b[38;5;66;03m# print(\"reply: \"+reply)\u001b[39;00m\n",
      "File \u001b[0;32m~/hlt/HLT/venv_hlt/lib/python3.10/site-packages/torch/utils/_contextlib.py:116\u001b[0m, in \u001b[0;36mcontext_decorator.<locals>.decorate_context\u001b[0;34m(*args, **kwargs)\u001b[0m\n\u001b[1;32m    113\u001b[0m \u001b[38;5;129m@functools\u001b[39m\u001b[38;5;241m.\u001b[39mwraps(func)\n\u001b[1;32m    114\u001b[0m \u001b[38;5;28;01mdef\u001b[39;00m\u001b[38;5;250m \u001b[39m\u001b[38;5;21mdecorate_context\u001b[39m(\u001b[38;5;241m*\u001b[39margs, \u001b[38;5;241m*\u001b[39m\u001b[38;5;241m*\u001b[39mkwargs):\n\u001b[1;32m    115\u001b[0m     \u001b[38;5;28;01mwith\u001b[39;00m ctx_factory():\n\u001b[0;32m--> 116\u001b[0m         \u001b[38;5;28;01mreturn\u001b[39;00m \u001b[43mfunc\u001b[49m\u001b[43m(\u001b[49m\u001b[38;5;241;43m*\u001b[39;49m\u001b[43margs\u001b[49m\u001b[43m,\u001b[49m\u001b[43m \u001b[49m\u001b[38;5;241;43m*\u001b[39;49m\u001b[38;5;241;43m*\u001b[39;49m\u001b[43mkwargs\u001b[49m\u001b[43m)\u001b[49m\n",
      "File \u001b[0;32m~/hlt/HLT/venv_hlt/lib/python3.10/site-packages/transformers/generation/utils.py:2465\u001b[0m, in \u001b[0;36mGenerationMixin.generate\u001b[0;34m(self, inputs, generation_config, logits_processor, stopping_criteria, prefix_allowed_tokens_fn, synced_gpus, assistant_model, streamer, negative_prompt_ids, negative_prompt_attention_mask, use_model_defaults, **kwargs)\u001b[0m\n\u001b[1;32m   2457\u001b[0m     input_ids, model_kwargs \u001b[38;5;241m=\u001b[39m \u001b[38;5;28mself\u001b[39m\u001b[38;5;241m.\u001b[39m_expand_inputs_for_generation(\n\u001b[1;32m   2458\u001b[0m         input_ids\u001b[38;5;241m=\u001b[39minput_ids,\n\u001b[1;32m   2459\u001b[0m         expand_size\u001b[38;5;241m=\u001b[39mgeneration_config\u001b[38;5;241m.\u001b[39mnum_return_sequences,\n\u001b[1;32m   2460\u001b[0m         is_encoder_decoder\u001b[38;5;241m=\u001b[39m\u001b[38;5;28mself\u001b[39m\u001b[38;5;241m.\u001b[39mconfig\u001b[38;5;241m.\u001b[39mis_encoder_decoder,\n\u001b[1;32m   2461\u001b[0m         \u001b[38;5;241m*\u001b[39m\u001b[38;5;241m*\u001b[39mmodel_kwargs,\n\u001b[1;32m   2462\u001b[0m     )\n\u001b[1;32m   2464\u001b[0m     \u001b[38;5;66;03m# 12. run sample (it degenerates to greedy search when `generation_config.do_sample=False`)\u001b[39;00m\n\u001b[0;32m-> 2465\u001b[0m     result \u001b[38;5;241m=\u001b[39m \u001b[38;5;28;43mself\u001b[39;49m\u001b[38;5;241;43m.\u001b[39;49m\u001b[43m_sample\u001b[49m\u001b[43m(\u001b[49m\n\u001b[1;32m   2466\u001b[0m \u001b[43m        \u001b[49m\u001b[43minput_ids\u001b[49m\u001b[43m,\u001b[49m\n\u001b[1;32m   2467\u001b[0m \u001b[43m        \u001b[49m\u001b[43mlogits_processor\u001b[49m\u001b[38;5;241;43m=\u001b[39;49m\u001b[43mprepared_logits_processor\u001b[49m\u001b[43m,\u001b[49m\n\u001b[1;32m   2468\u001b[0m \u001b[43m        \u001b[49m\u001b[43mstopping_criteria\u001b[49m\u001b[38;5;241;43m=\u001b[39;49m\u001b[43mprepared_stopping_criteria\u001b[49m\u001b[43m,\u001b[49m\n\u001b[1;32m   2469\u001b[0m \u001b[43m        \u001b[49m\u001b[43mgeneration_config\u001b[49m\u001b[38;5;241;43m=\u001b[39;49m\u001b[43mgeneration_config\u001b[49m\u001b[43m,\u001b[49m\n\u001b[1;32m   2470\u001b[0m \u001b[43m        \u001b[49m\u001b[43msynced_gpus\u001b[49m\u001b[38;5;241;43m=\u001b[39;49m\u001b[43msynced_gpus\u001b[49m\u001b[43m,\u001b[49m\n\u001b[1;32m   2471\u001b[0m \u001b[43m        \u001b[49m\u001b[43mstreamer\u001b[49m\u001b[38;5;241;43m=\u001b[39;49m\u001b[43mstreamer\u001b[49m\u001b[43m,\u001b[49m\n\u001b[1;32m   2472\u001b[0m \u001b[43m        \u001b[49m\u001b[38;5;241;43m*\u001b[39;49m\u001b[38;5;241;43m*\u001b[39;49m\u001b[43mmodel_kwargs\u001b[49m\u001b[43m,\u001b[49m\n\u001b[1;32m   2473\u001b[0m \u001b[43m    \u001b[49m\u001b[43m)\u001b[49m\n\u001b[1;32m   2475\u001b[0m \u001b[38;5;28;01melif\u001b[39;00m generation_mode \u001b[38;5;129;01min\u001b[39;00m (GenerationMode\u001b[38;5;241m.\u001b[39mBEAM_SAMPLE, GenerationMode\u001b[38;5;241m.\u001b[39mBEAM_SEARCH):\n\u001b[1;32m   2476\u001b[0m     \u001b[38;5;66;03m# 11. interleave input_ids with `num_beams` additional sequences per batch\u001b[39;00m\n\u001b[1;32m   2477\u001b[0m     input_ids, model_kwargs \u001b[38;5;241m=\u001b[39m \u001b[38;5;28mself\u001b[39m\u001b[38;5;241m.\u001b[39m_expand_inputs_for_generation(\n\u001b[1;32m   2478\u001b[0m         input_ids\u001b[38;5;241m=\u001b[39minput_ids,\n\u001b[1;32m   2479\u001b[0m         expand_size\u001b[38;5;241m=\u001b[39mgeneration_config\u001b[38;5;241m.\u001b[39mnum_beams,\n\u001b[1;32m   2480\u001b[0m         is_encoder_decoder\u001b[38;5;241m=\u001b[39m\u001b[38;5;28mself\u001b[39m\u001b[38;5;241m.\u001b[39mconfig\u001b[38;5;241m.\u001b[39mis_encoder_decoder,\n\u001b[1;32m   2481\u001b[0m         \u001b[38;5;241m*\u001b[39m\u001b[38;5;241m*\u001b[39mmodel_kwargs,\n\u001b[1;32m   2482\u001b[0m     )\n",
      "File \u001b[0;32m~/hlt/HLT/venv_hlt/lib/python3.10/site-packages/transformers/generation/utils.py:3431\u001b[0m, in \u001b[0;36mGenerationMixin._sample\u001b[0;34m(self, input_ids, logits_processor, stopping_criteria, generation_config, synced_gpus, streamer, **model_kwargs)\u001b[0m\n\u001b[1;32m   3428\u001b[0m model_inputs\u001b[38;5;241m.\u001b[39mupdate({\u001b[38;5;124m\"\u001b[39m\u001b[38;5;124moutput_hidden_states\u001b[39m\u001b[38;5;124m\"\u001b[39m: output_hidden_states} \u001b[38;5;28;01mif\u001b[39;00m output_hidden_states \u001b[38;5;28;01melse\u001b[39;00m {})\n\u001b[1;32m   3430\u001b[0m \u001b[38;5;28;01mif\u001b[39;00m is_prefill:\n\u001b[0;32m-> 3431\u001b[0m     outputs \u001b[38;5;241m=\u001b[39m \u001b[38;5;28;43mself\u001b[39;49m\u001b[43m(\u001b[49m\u001b[38;5;241;43m*\u001b[39;49m\u001b[38;5;241;43m*\u001b[39;49m\u001b[43mmodel_inputs\u001b[49m\u001b[43m,\u001b[49m\u001b[43m \u001b[49m\u001b[43mreturn_dict\u001b[49m\u001b[38;5;241;43m=\u001b[39;49m\u001b[38;5;28;43;01mTrue\u001b[39;49;00m\u001b[43m)\u001b[49m\n\u001b[1;32m   3432\u001b[0m     is_prefill \u001b[38;5;241m=\u001b[39m \u001b[38;5;28;01mFalse\u001b[39;00m\n\u001b[1;32m   3433\u001b[0m \u001b[38;5;28;01melse\u001b[39;00m:\n",
      "File \u001b[0;32m~/hlt/HLT/venv_hlt/lib/python3.10/site-packages/torch/nn/modules/module.py:1751\u001b[0m, in \u001b[0;36mModule._wrapped_call_impl\u001b[0;34m(self, *args, **kwargs)\u001b[0m\n\u001b[1;32m   1749\u001b[0m     \u001b[38;5;28;01mreturn\u001b[39;00m \u001b[38;5;28mself\u001b[39m\u001b[38;5;241m.\u001b[39m_compiled_call_impl(\u001b[38;5;241m*\u001b[39margs, \u001b[38;5;241m*\u001b[39m\u001b[38;5;241m*\u001b[39mkwargs)  \u001b[38;5;66;03m# type: ignore[misc]\u001b[39;00m\n\u001b[1;32m   1750\u001b[0m \u001b[38;5;28;01melse\u001b[39;00m:\n\u001b[0;32m-> 1751\u001b[0m     \u001b[38;5;28;01mreturn\u001b[39;00m \u001b[38;5;28;43mself\u001b[39;49m\u001b[38;5;241;43m.\u001b[39;49m\u001b[43m_call_impl\u001b[49m\u001b[43m(\u001b[49m\u001b[38;5;241;43m*\u001b[39;49m\u001b[43margs\u001b[49m\u001b[43m,\u001b[49m\u001b[43m \u001b[49m\u001b[38;5;241;43m*\u001b[39;49m\u001b[38;5;241;43m*\u001b[39;49m\u001b[43mkwargs\u001b[49m\u001b[43m)\u001b[49m\n",
      "File \u001b[0;32m~/hlt/HLT/venv_hlt/lib/python3.10/site-packages/torch/nn/modules/module.py:1762\u001b[0m, in \u001b[0;36mModule._call_impl\u001b[0;34m(self, *args, **kwargs)\u001b[0m\n\u001b[1;32m   1757\u001b[0m \u001b[38;5;66;03m# If we don't have any hooks, we want to skip the rest of the logic in\u001b[39;00m\n\u001b[1;32m   1758\u001b[0m \u001b[38;5;66;03m# this function, and just call forward.\u001b[39;00m\n\u001b[1;32m   1759\u001b[0m \u001b[38;5;28;01mif\u001b[39;00m \u001b[38;5;129;01mnot\u001b[39;00m (\u001b[38;5;28mself\u001b[39m\u001b[38;5;241m.\u001b[39m_backward_hooks \u001b[38;5;129;01mor\u001b[39;00m \u001b[38;5;28mself\u001b[39m\u001b[38;5;241m.\u001b[39m_backward_pre_hooks \u001b[38;5;129;01mor\u001b[39;00m \u001b[38;5;28mself\u001b[39m\u001b[38;5;241m.\u001b[39m_forward_hooks \u001b[38;5;129;01mor\u001b[39;00m \u001b[38;5;28mself\u001b[39m\u001b[38;5;241m.\u001b[39m_forward_pre_hooks\n\u001b[1;32m   1760\u001b[0m         \u001b[38;5;129;01mor\u001b[39;00m _global_backward_pre_hooks \u001b[38;5;129;01mor\u001b[39;00m _global_backward_hooks\n\u001b[1;32m   1761\u001b[0m         \u001b[38;5;129;01mor\u001b[39;00m _global_forward_hooks \u001b[38;5;129;01mor\u001b[39;00m _global_forward_pre_hooks):\n\u001b[0;32m-> 1762\u001b[0m     \u001b[38;5;28;01mreturn\u001b[39;00m \u001b[43mforward_call\u001b[49m\u001b[43m(\u001b[49m\u001b[38;5;241;43m*\u001b[39;49m\u001b[43margs\u001b[49m\u001b[43m,\u001b[49m\u001b[43m \u001b[49m\u001b[38;5;241;43m*\u001b[39;49m\u001b[38;5;241;43m*\u001b[39;49m\u001b[43mkwargs\u001b[49m\u001b[43m)\u001b[49m\n\u001b[1;32m   1764\u001b[0m result \u001b[38;5;241m=\u001b[39m \u001b[38;5;28;01mNone\u001b[39;00m\n\u001b[1;32m   1765\u001b[0m called_always_called_hooks \u001b[38;5;241m=\u001b[39m \u001b[38;5;28mset\u001b[39m()\n",
      "File \u001b[0;32m~/hlt/HLT/venv_hlt/lib/python3.10/site-packages/transformers/utils/generic.py:965\u001b[0m, in \u001b[0;36mcan_return_tuple.<locals>.wrapper\u001b[0;34m(self, *args, **kwargs)\u001b[0m\n\u001b[1;32m    962\u001b[0m     set_attribute_for_modules(\u001b[38;5;28mself\u001b[39m, \u001b[38;5;124m\"\u001b[39m\u001b[38;5;124m_is_top_level_module\u001b[39m\u001b[38;5;124m\"\u001b[39m, \u001b[38;5;28;01mFalse\u001b[39;00m)\n\u001b[1;32m    964\u001b[0m \u001b[38;5;28;01mtry\u001b[39;00m:\n\u001b[0;32m--> 965\u001b[0m     output \u001b[38;5;241m=\u001b[39m \u001b[43mfunc\u001b[49m\u001b[43m(\u001b[49m\u001b[38;5;28;43mself\u001b[39;49m\u001b[43m,\u001b[49m\u001b[43m \u001b[49m\u001b[38;5;241;43m*\u001b[39;49m\u001b[43margs\u001b[49m\u001b[43m,\u001b[49m\u001b[43m \u001b[49m\u001b[38;5;241;43m*\u001b[39;49m\u001b[38;5;241;43m*\u001b[39;49m\u001b[43mkwargs\u001b[49m\u001b[43m)\u001b[49m\n\u001b[1;32m    966\u001b[0m     \u001b[38;5;28;01mif\u001b[39;00m is_requested_to_return_tuple \u001b[38;5;129;01mor\u001b[39;00m (is_configured_to_return_tuple \u001b[38;5;129;01mand\u001b[39;00m is_top_level_module):\n\u001b[1;32m    967\u001b[0m         output \u001b[38;5;241m=\u001b[39m output\u001b[38;5;241m.\u001b[39mto_tuple()\n",
      "File \u001b[0;32m~/hlt/HLT/venv_hlt/lib/python3.10/site-packages/transformers/utils/deprecation.py:172\u001b[0m, in \u001b[0;36mdeprecate_kwarg.<locals>.wrapper.<locals>.wrapped_func\u001b[0;34m(*args, **kwargs)\u001b[0m\n\u001b[1;32m    168\u001b[0m \u001b[38;5;28;01melif\u001b[39;00m minimum_action \u001b[38;5;129;01min\u001b[39;00m (Action\u001b[38;5;241m.\u001b[39mNOTIFY, Action\u001b[38;5;241m.\u001b[39mNOTIFY_ALWAYS) \u001b[38;5;129;01mand\u001b[39;00m \u001b[38;5;129;01mnot\u001b[39;00m is_torchdynamo_compiling():\n\u001b[1;32m    169\u001b[0m     \u001b[38;5;66;03m# DeprecationWarning is ignored by default, so we use FutureWarning instead\u001b[39;00m\n\u001b[1;32m    170\u001b[0m     warnings\u001b[38;5;241m.\u001b[39mwarn(message, \u001b[38;5;167;01mFutureWarning\u001b[39;00m, stacklevel\u001b[38;5;241m=\u001b[39m\u001b[38;5;241m2\u001b[39m)\n\u001b[0;32m--> 172\u001b[0m \u001b[38;5;28;01mreturn\u001b[39;00m \u001b[43mfunc\u001b[49m\u001b[43m(\u001b[49m\u001b[38;5;241;43m*\u001b[39;49m\u001b[43margs\u001b[49m\u001b[43m,\u001b[49m\u001b[43m \u001b[49m\u001b[38;5;241;43m*\u001b[39;49m\u001b[38;5;241;43m*\u001b[39;49m\u001b[43mkwargs\u001b[49m\u001b[43m)\u001b[49m\n",
      "File \u001b[0;32m~/hlt/HLT/venv_hlt/lib/python3.10/site-packages/transformers/models/mistral/modeling_mistral.py:810\u001b[0m, in \u001b[0;36mMistralForCausalLM.forward\u001b[0;34m(self, input_ids, attention_mask, position_ids, past_key_values, inputs_embeds, labels, use_cache, output_attentions, output_hidden_states, cache_position, logits_to_keep, **kwargs)\u001b[0m\n\u001b[1;32m    805\u001b[0m output_hidden_states \u001b[38;5;241m=\u001b[39m (\n\u001b[1;32m    806\u001b[0m     output_hidden_states \u001b[38;5;28;01mif\u001b[39;00m output_hidden_states \u001b[38;5;129;01mis\u001b[39;00m \u001b[38;5;129;01mnot\u001b[39;00m \u001b[38;5;28;01mNone\u001b[39;00m \u001b[38;5;28;01melse\u001b[39;00m \u001b[38;5;28mself\u001b[39m\u001b[38;5;241m.\u001b[39mconfig\u001b[38;5;241m.\u001b[39moutput_hidden_states\n\u001b[1;32m    807\u001b[0m )\n\u001b[1;32m    809\u001b[0m \u001b[38;5;66;03m# decoder outputs consists of (dec_features, layer_state, dec_hidden, dec_attn)\u001b[39;00m\n\u001b[0;32m--> 810\u001b[0m outputs: BaseModelOutputWithPast \u001b[38;5;241m=\u001b[39m \u001b[38;5;28;43mself\u001b[39;49m\u001b[38;5;241;43m.\u001b[39;49m\u001b[43mmodel\u001b[49m\u001b[43m(\u001b[49m\n\u001b[1;32m    811\u001b[0m \u001b[43m    \u001b[49m\u001b[43minput_ids\u001b[49m\u001b[38;5;241;43m=\u001b[39;49m\u001b[43minput_ids\u001b[49m\u001b[43m,\u001b[49m\n\u001b[1;32m    812\u001b[0m \u001b[43m    \u001b[49m\u001b[43mattention_mask\u001b[49m\u001b[38;5;241;43m=\u001b[39;49m\u001b[43mattention_mask\u001b[49m\u001b[43m,\u001b[49m\n\u001b[1;32m    813\u001b[0m \u001b[43m    \u001b[49m\u001b[43mposition_ids\u001b[49m\u001b[38;5;241;43m=\u001b[39;49m\u001b[43mposition_ids\u001b[49m\u001b[43m,\u001b[49m\n\u001b[1;32m    814\u001b[0m \u001b[43m    \u001b[49m\u001b[43mpast_key_values\u001b[49m\u001b[38;5;241;43m=\u001b[39;49m\u001b[43mpast_key_values\u001b[49m\u001b[43m,\u001b[49m\n\u001b[1;32m    815\u001b[0m \u001b[43m    \u001b[49m\u001b[43minputs_embeds\u001b[49m\u001b[38;5;241;43m=\u001b[39;49m\u001b[43minputs_embeds\u001b[49m\u001b[43m,\u001b[49m\n\u001b[1;32m    816\u001b[0m \u001b[43m    \u001b[49m\u001b[43muse_cache\u001b[49m\u001b[38;5;241;43m=\u001b[39;49m\u001b[43muse_cache\u001b[49m\u001b[43m,\u001b[49m\n\u001b[1;32m    817\u001b[0m \u001b[43m    \u001b[49m\u001b[43moutput_attentions\u001b[49m\u001b[38;5;241;43m=\u001b[39;49m\u001b[43moutput_attentions\u001b[49m\u001b[43m,\u001b[49m\n\u001b[1;32m    818\u001b[0m \u001b[43m    \u001b[49m\u001b[43moutput_hidden_states\u001b[49m\u001b[38;5;241;43m=\u001b[39;49m\u001b[43moutput_hidden_states\u001b[49m\u001b[43m,\u001b[49m\n\u001b[1;32m    819\u001b[0m \u001b[43m    \u001b[49m\u001b[43mcache_position\u001b[49m\u001b[38;5;241;43m=\u001b[39;49m\u001b[43mcache_position\u001b[49m\u001b[43m,\u001b[49m\n\u001b[1;32m    820\u001b[0m \u001b[43m    \u001b[49m\u001b[38;5;241;43m*\u001b[39;49m\u001b[38;5;241;43m*\u001b[39;49m\u001b[43mkwargs\u001b[49m\u001b[43m,\u001b[49m\n\u001b[1;32m    821\u001b[0m \u001b[43m\u001b[49m\u001b[43m)\u001b[49m\n\u001b[1;32m    823\u001b[0m hidden_states \u001b[38;5;241m=\u001b[39m outputs\u001b[38;5;241m.\u001b[39mlast_hidden_state\n\u001b[1;32m    824\u001b[0m \u001b[38;5;66;03m# Only compute necessary logits, and do not upcast them to float if we are not computing the loss\u001b[39;00m\n",
      "File \u001b[0;32m~/hlt/HLT/venv_hlt/lib/python3.10/site-packages/torch/nn/modules/module.py:1751\u001b[0m, in \u001b[0;36mModule._wrapped_call_impl\u001b[0;34m(self, *args, **kwargs)\u001b[0m\n\u001b[1;32m   1749\u001b[0m     \u001b[38;5;28;01mreturn\u001b[39;00m \u001b[38;5;28mself\u001b[39m\u001b[38;5;241m.\u001b[39m_compiled_call_impl(\u001b[38;5;241m*\u001b[39margs, \u001b[38;5;241m*\u001b[39m\u001b[38;5;241m*\u001b[39mkwargs)  \u001b[38;5;66;03m# type: ignore[misc]\u001b[39;00m\n\u001b[1;32m   1750\u001b[0m \u001b[38;5;28;01melse\u001b[39;00m:\n\u001b[0;32m-> 1751\u001b[0m     \u001b[38;5;28;01mreturn\u001b[39;00m \u001b[38;5;28;43mself\u001b[39;49m\u001b[38;5;241;43m.\u001b[39;49m\u001b[43m_call_impl\u001b[49m\u001b[43m(\u001b[49m\u001b[38;5;241;43m*\u001b[39;49m\u001b[43margs\u001b[49m\u001b[43m,\u001b[49m\u001b[43m \u001b[49m\u001b[38;5;241;43m*\u001b[39;49m\u001b[38;5;241;43m*\u001b[39;49m\u001b[43mkwargs\u001b[49m\u001b[43m)\u001b[49m\n",
      "File \u001b[0;32m~/hlt/HLT/venv_hlt/lib/python3.10/site-packages/torch/nn/modules/module.py:1762\u001b[0m, in \u001b[0;36mModule._call_impl\u001b[0;34m(self, *args, **kwargs)\u001b[0m\n\u001b[1;32m   1757\u001b[0m \u001b[38;5;66;03m# If we don't have any hooks, we want to skip the rest of the logic in\u001b[39;00m\n\u001b[1;32m   1758\u001b[0m \u001b[38;5;66;03m# this function, and just call forward.\u001b[39;00m\n\u001b[1;32m   1759\u001b[0m \u001b[38;5;28;01mif\u001b[39;00m \u001b[38;5;129;01mnot\u001b[39;00m (\u001b[38;5;28mself\u001b[39m\u001b[38;5;241m.\u001b[39m_backward_hooks \u001b[38;5;129;01mor\u001b[39;00m \u001b[38;5;28mself\u001b[39m\u001b[38;5;241m.\u001b[39m_backward_pre_hooks \u001b[38;5;129;01mor\u001b[39;00m \u001b[38;5;28mself\u001b[39m\u001b[38;5;241m.\u001b[39m_forward_hooks \u001b[38;5;129;01mor\u001b[39;00m \u001b[38;5;28mself\u001b[39m\u001b[38;5;241m.\u001b[39m_forward_pre_hooks\n\u001b[1;32m   1760\u001b[0m         \u001b[38;5;129;01mor\u001b[39;00m _global_backward_pre_hooks \u001b[38;5;129;01mor\u001b[39;00m _global_backward_hooks\n\u001b[1;32m   1761\u001b[0m         \u001b[38;5;129;01mor\u001b[39;00m _global_forward_hooks \u001b[38;5;129;01mor\u001b[39;00m _global_forward_pre_hooks):\n\u001b[0;32m-> 1762\u001b[0m     \u001b[38;5;28;01mreturn\u001b[39;00m \u001b[43mforward_call\u001b[49m\u001b[43m(\u001b[49m\u001b[38;5;241;43m*\u001b[39;49m\u001b[43margs\u001b[49m\u001b[43m,\u001b[49m\u001b[43m \u001b[49m\u001b[38;5;241;43m*\u001b[39;49m\u001b[38;5;241;43m*\u001b[39;49m\u001b[43mkwargs\u001b[49m\u001b[43m)\u001b[49m\n\u001b[1;32m   1764\u001b[0m result \u001b[38;5;241m=\u001b[39m \u001b[38;5;28;01mNone\u001b[39;00m\n\u001b[1;32m   1765\u001b[0m called_always_called_hooks \u001b[38;5;241m=\u001b[39m \u001b[38;5;28mset\u001b[39m()\n",
      "File \u001b[0;32m~/hlt/HLT/venv_hlt/lib/python3.10/site-packages/transformers/utils/generic.py:965\u001b[0m, in \u001b[0;36mcan_return_tuple.<locals>.wrapper\u001b[0;34m(self, *args, **kwargs)\u001b[0m\n\u001b[1;32m    962\u001b[0m     set_attribute_for_modules(\u001b[38;5;28mself\u001b[39m, \u001b[38;5;124m\"\u001b[39m\u001b[38;5;124m_is_top_level_module\u001b[39m\u001b[38;5;124m\"\u001b[39m, \u001b[38;5;28;01mFalse\u001b[39;00m)\n\u001b[1;32m    964\u001b[0m \u001b[38;5;28;01mtry\u001b[39;00m:\n\u001b[0;32m--> 965\u001b[0m     output \u001b[38;5;241m=\u001b[39m \u001b[43mfunc\u001b[49m\u001b[43m(\u001b[49m\u001b[38;5;28;43mself\u001b[39;49m\u001b[43m,\u001b[49m\u001b[43m \u001b[49m\u001b[38;5;241;43m*\u001b[39;49m\u001b[43margs\u001b[49m\u001b[43m,\u001b[49m\u001b[43m \u001b[49m\u001b[38;5;241;43m*\u001b[39;49m\u001b[38;5;241;43m*\u001b[39;49m\u001b[43mkwargs\u001b[49m\u001b[43m)\u001b[49m\n\u001b[1;32m    966\u001b[0m     \u001b[38;5;28;01mif\u001b[39;00m is_requested_to_return_tuple \u001b[38;5;129;01mor\u001b[39;00m (is_configured_to_return_tuple \u001b[38;5;129;01mand\u001b[39;00m is_top_level_module):\n\u001b[1;32m    967\u001b[0m         output \u001b[38;5;241m=\u001b[39m output\u001b[38;5;241m.\u001b[39mto_tuple()\n",
      "File \u001b[0;32m~/hlt/HLT/venv_hlt/lib/python3.10/site-packages/transformers/models/mistral/modeling_mistral.py:536\u001b[0m, in \u001b[0;36mMistralModel.forward\u001b[0;34m(self, input_ids, attention_mask, position_ids, past_key_values, inputs_embeds, use_cache, output_attentions, output_hidden_states, cache_position, **flash_attn_kwargs)\u001b[0m\n\u001b[1;32m    524\u001b[0m     layer_outputs \u001b[38;5;241m=\u001b[39m \u001b[38;5;28mself\u001b[39m\u001b[38;5;241m.\u001b[39m_gradient_checkpointing_func(\n\u001b[1;32m    525\u001b[0m         partial(decoder_layer\u001b[38;5;241m.\u001b[39m\u001b[38;5;21m__call__\u001b[39m, \u001b[38;5;241m*\u001b[39m\u001b[38;5;241m*\u001b[39mflash_attn_kwargs),\n\u001b[1;32m    526\u001b[0m         hidden_states,\n\u001b[0;32m   (...)\u001b[0m\n\u001b[1;32m    533\u001b[0m         position_embeddings,\n\u001b[1;32m    534\u001b[0m     )\n\u001b[1;32m    535\u001b[0m \u001b[38;5;28;01melse\u001b[39;00m:\n\u001b[0;32m--> 536\u001b[0m     layer_outputs \u001b[38;5;241m=\u001b[39m \u001b[43mdecoder_layer\u001b[49m\u001b[43m(\u001b[49m\n\u001b[1;32m    537\u001b[0m \u001b[43m        \u001b[49m\u001b[43mhidden_states\u001b[49m\u001b[43m,\u001b[49m\n\u001b[1;32m    538\u001b[0m \u001b[43m        \u001b[49m\u001b[43mattention_mask\u001b[49m\u001b[38;5;241;43m=\u001b[39;49m\u001b[43mcausal_mask\u001b[49m\u001b[43m,\u001b[49m\n\u001b[1;32m    539\u001b[0m \u001b[43m        \u001b[49m\u001b[43mposition_ids\u001b[49m\u001b[38;5;241;43m=\u001b[39;49m\u001b[43mposition_ids\u001b[49m\u001b[43m,\u001b[49m\n\u001b[1;32m    540\u001b[0m \u001b[43m        \u001b[49m\u001b[43mpast_key_value\u001b[49m\u001b[38;5;241;43m=\u001b[39;49m\u001b[43mpast_key_values\u001b[49m\u001b[43m,\u001b[49m\n\u001b[1;32m    541\u001b[0m \u001b[43m        \u001b[49m\u001b[43moutput_attentions\u001b[49m\u001b[38;5;241;43m=\u001b[39;49m\u001b[43moutput_attentions\u001b[49m\u001b[43m,\u001b[49m\n\u001b[1;32m    542\u001b[0m \u001b[43m        \u001b[49m\u001b[43muse_cache\u001b[49m\u001b[38;5;241;43m=\u001b[39;49m\u001b[43muse_cache\u001b[49m\u001b[43m,\u001b[49m\n\u001b[1;32m    543\u001b[0m \u001b[43m        \u001b[49m\u001b[43mcache_position\u001b[49m\u001b[38;5;241;43m=\u001b[39;49m\u001b[43mcache_position\u001b[49m\u001b[43m,\u001b[49m\n\u001b[1;32m    544\u001b[0m \u001b[43m        \u001b[49m\u001b[43mposition_embeddings\u001b[49m\u001b[38;5;241;43m=\u001b[39;49m\u001b[43mposition_embeddings\u001b[49m\u001b[43m,\u001b[49m\n\u001b[1;32m    545\u001b[0m \u001b[43m        \u001b[49m\u001b[38;5;241;43m*\u001b[39;49m\u001b[38;5;241;43m*\u001b[39;49m\u001b[43mflash_attn_kwargs\u001b[49m\u001b[43m,\u001b[49m\n\u001b[1;32m    546\u001b[0m \u001b[43m    \u001b[49m\u001b[43m)\u001b[49m\n\u001b[1;32m    548\u001b[0m hidden_states \u001b[38;5;241m=\u001b[39m layer_outputs[\u001b[38;5;241m0\u001b[39m]\n\u001b[1;32m    550\u001b[0m \u001b[38;5;28;01mif\u001b[39;00m output_attentions:\n",
      "File \u001b[0;32m~/hlt/HLT/venv_hlt/lib/python3.10/site-packages/torch/nn/modules/module.py:1751\u001b[0m, in \u001b[0;36mModule._wrapped_call_impl\u001b[0;34m(self, *args, **kwargs)\u001b[0m\n\u001b[1;32m   1749\u001b[0m     \u001b[38;5;28;01mreturn\u001b[39;00m \u001b[38;5;28mself\u001b[39m\u001b[38;5;241m.\u001b[39m_compiled_call_impl(\u001b[38;5;241m*\u001b[39margs, \u001b[38;5;241m*\u001b[39m\u001b[38;5;241m*\u001b[39mkwargs)  \u001b[38;5;66;03m# type: ignore[misc]\u001b[39;00m\n\u001b[1;32m   1750\u001b[0m \u001b[38;5;28;01melse\u001b[39;00m:\n\u001b[0;32m-> 1751\u001b[0m     \u001b[38;5;28;01mreturn\u001b[39;00m \u001b[38;5;28;43mself\u001b[39;49m\u001b[38;5;241;43m.\u001b[39;49m\u001b[43m_call_impl\u001b[49m\u001b[43m(\u001b[49m\u001b[38;5;241;43m*\u001b[39;49m\u001b[43margs\u001b[49m\u001b[43m,\u001b[49m\u001b[43m \u001b[49m\u001b[38;5;241;43m*\u001b[39;49m\u001b[38;5;241;43m*\u001b[39;49m\u001b[43mkwargs\u001b[49m\u001b[43m)\u001b[49m\n",
      "File \u001b[0;32m~/hlt/HLT/venv_hlt/lib/python3.10/site-packages/torch/nn/modules/module.py:1762\u001b[0m, in \u001b[0;36mModule._call_impl\u001b[0;34m(self, *args, **kwargs)\u001b[0m\n\u001b[1;32m   1757\u001b[0m \u001b[38;5;66;03m# If we don't have any hooks, we want to skip the rest of the logic in\u001b[39;00m\n\u001b[1;32m   1758\u001b[0m \u001b[38;5;66;03m# this function, and just call forward.\u001b[39;00m\n\u001b[1;32m   1759\u001b[0m \u001b[38;5;28;01mif\u001b[39;00m \u001b[38;5;129;01mnot\u001b[39;00m (\u001b[38;5;28mself\u001b[39m\u001b[38;5;241m.\u001b[39m_backward_hooks \u001b[38;5;129;01mor\u001b[39;00m \u001b[38;5;28mself\u001b[39m\u001b[38;5;241m.\u001b[39m_backward_pre_hooks \u001b[38;5;129;01mor\u001b[39;00m \u001b[38;5;28mself\u001b[39m\u001b[38;5;241m.\u001b[39m_forward_hooks \u001b[38;5;129;01mor\u001b[39;00m \u001b[38;5;28mself\u001b[39m\u001b[38;5;241m.\u001b[39m_forward_pre_hooks\n\u001b[1;32m   1760\u001b[0m         \u001b[38;5;129;01mor\u001b[39;00m _global_backward_pre_hooks \u001b[38;5;129;01mor\u001b[39;00m _global_backward_hooks\n\u001b[1;32m   1761\u001b[0m         \u001b[38;5;129;01mor\u001b[39;00m _global_forward_hooks \u001b[38;5;129;01mor\u001b[39;00m _global_forward_pre_hooks):\n\u001b[0;32m-> 1762\u001b[0m     \u001b[38;5;28;01mreturn\u001b[39;00m \u001b[43mforward_call\u001b[49m\u001b[43m(\u001b[49m\u001b[38;5;241;43m*\u001b[39;49m\u001b[43margs\u001b[49m\u001b[43m,\u001b[49m\u001b[43m \u001b[49m\u001b[38;5;241;43m*\u001b[39;49m\u001b[38;5;241;43m*\u001b[39;49m\u001b[43mkwargs\u001b[49m\u001b[43m)\u001b[49m\n\u001b[1;32m   1764\u001b[0m result \u001b[38;5;241m=\u001b[39m \u001b[38;5;28;01mNone\u001b[39;00m\n\u001b[1;32m   1765\u001b[0m called_always_called_hooks \u001b[38;5;241m=\u001b[39m \u001b[38;5;28mset\u001b[39m()\n",
      "File \u001b[0;32m~/hlt/HLT/venv_hlt/lib/python3.10/site-packages/transformers/models/mistral/modeling_mistral.py:246\u001b[0m, in \u001b[0;36mMistralDecoderLayer.forward\u001b[0;34m(self, hidden_states, attention_mask, position_ids, past_key_value, output_attentions, use_cache, cache_position, position_embeddings, **kwargs)\u001b[0m\n\u001b[1;32m    232\u001b[0m \u001b[38;5;28;01mdef\u001b[39;00m\u001b[38;5;250m \u001b[39m\u001b[38;5;21mforward\u001b[39m(\n\u001b[1;32m    233\u001b[0m     \u001b[38;5;28mself\u001b[39m,\n\u001b[1;32m    234\u001b[0m     hidden_states: torch\u001b[38;5;241m.\u001b[39mTensor,\n\u001b[0;32m   (...)\u001b[0m\n\u001b[1;32m    242\u001b[0m     \u001b[38;5;241m*\u001b[39m\u001b[38;5;241m*\u001b[39mkwargs: Unpack[FlashAttentionKwargs],\n\u001b[1;32m    243\u001b[0m ) \u001b[38;5;241m-\u001b[39m\u001b[38;5;241m>\u001b[39m Tuple[torch\u001b[38;5;241m.\u001b[39mFloatTensor, Optional[Tuple[torch\u001b[38;5;241m.\u001b[39mFloatTensor, torch\u001b[38;5;241m.\u001b[39mFloatTensor]]]:\n\u001b[1;32m    244\u001b[0m     residual \u001b[38;5;241m=\u001b[39m hidden_states\n\u001b[0;32m--> 246\u001b[0m     hidden_states \u001b[38;5;241m=\u001b[39m \u001b[38;5;28;43mself\u001b[39;49m\u001b[38;5;241;43m.\u001b[39;49m\u001b[43minput_layernorm\u001b[49m\u001b[43m(\u001b[49m\u001b[43mhidden_states\u001b[49m\u001b[43m)\u001b[49m\n\u001b[1;32m    248\u001b[0m     \u001b[38;5;66;03m# Self Attention\u001b[39;00m\n\u001b[1;32m    249\u001b[0m     hidden_states, self_attn_weights \u001b[38;5;241m=\u001b[39m \u001b[38;5;28mself\u001b[39m\u001b[38;5;241m.\u001b[39mself_attn(\n\u001b[1;32m    250\u001b[0m         hidden_states\u001b[38;5;241m=\u001b[39mhidden_states,\n\u001b[1;32m    251\u001b[0m         attention_mask\u001b[38;5;241m=\u001b[39mattention_mask,\n\u001b[0;32m   (...)\u001b[0m\n\u001b[1;32m    258\u001b[0m         \u001b[38;5;241m*\u001b[39m\u001b[38;5;241m*\u001b[39mkwargs,\n\u001b[1;32m    259\u001b[0m     )\n",
      "File \u001b[0;32m~/hlt/HLT/venv_hlt/lib/python3.10/site-packages/torch/nn/modules/module.py:1751\u001b[0m, in \u001b[0;36mModule._wrapped_call_impl\u001b[0;34m(self, *args, **kwargs)\u001b[0m\n\u001b[1;32m   1749\u001b[0m     \u001b[38;5;28;01mreturn\u001b[39;00m \u001b[38;5;28mself\u001b[39m\u001b[38;5;241m.\u001b[39m_compiled_call_impl(\u001b[38;5;241m*\u001b[39margs, \u001b[38;5;241m*\u001b[39m\u001b[38;5;241m*\u001b[39mkwargs)  \u001b[38;5;66;03m# type: ignore[misc]\u001b[39;00m\n\u001b[1;32m   1750\u001b[0m \u001b[38;5;28;01melse\u001b[39;00m:\n\u001b[0;32m-> 1751\u001b[0m     \u001b[38;5;28;01mreturn\u001b[39;00m \u001b[38;5;28;43mself\u001b[39;49m\u001b[38;5;241;43m.\u001b[39;49m\u001b[43m_call_impl\u001b[49m\u001b[43m(\u001b[49m\u001b[38;5;241;43m*\u001b[39;49m\u001b[43margs\u001b[49m\u001b[43m,\u001b[49m\u001b[43m \u001b[49m\u001b[38;5;241;43m*\u001b[39;49m\u001b[38;5;241;43m*\u001b[39;49m\u001b[43mkwargs\u001b[49m\u001b[43m)\u001b[49m\n",
      "File \u001b[0;32m~/hlt/HLT/venv_hlt/lib/python3.10/site-packages/torch/nn/modules/module.py:1762\u001b[0m, in \u001b[0;36mModule._call_impl\u001b[0;34m(self, *args, **kwargs)\u001b[0m\n\u001b[1;32m   1757\u001b[0m \u001b[38;5;66;03m# If we don't have any hooks, we want to skip the rest of the logic in\u001b[39;00m\n\u001b[1;32m   1758\u001b[0m \u001b[38;5;66;03m# this function, and just call forward.\u001b[39;00m\n\u001b[1;32m   1759\u001b[0m \u001b[38;5;28;01mif\u001b[39;00m \u001b[38;5;129;01mnot\u001b[39;00m (\u001b[38;5;28mself\u001b[39m\u001b[38;5;241m.\u001b[39m_backward_hooks \u001b[38;5;129;01mor\u001b[39;00m \u001b[38;5;28mself\u001b[39m\u001b[38;5;241m.\u001b[39m_backward_pre_hooks \u001b[38;5;129;01mor\u001b[39;00m \u001b[38;5;28mself\u001b[39m\u001b[38;5;241m.\u001b[39m_forward_hooks \u001b[38;5;129;01mor\u001b[39;00m \u001b[38;5;28mself\u001b[39m\u001b[38;5;241m.\u001b[39m_forward_pre_hooks\n\u001b[1;32m   1760\u001b[0m         \u001b[38;5;129;01mor\u001b[39;00m _global_backward_pre_hooks \u001b[38;5;129;01mor\u001b[39;00m _global_backward_hooks\n\u001b[1;32m   1761\u001b[0m         \u001b[38;5;129;01mor\u001b[39;00m _global_forward_hooks \u001b[38;5;129;01mor\u001b[39;00m _global_forward_pre_hooks):\n\u001b[0;32m-> 1762\u001b[0m     \u001b[38;5;28;01mreturn\u001b[39;00m \u001b[43mforward_call\u001b[49m\u001b[43m(\u001b[49m\u001b[38;5;241;43m*\u001b[39;49m\u001b[43margs\u001b[49m\u001b[43m,\u001b[49m\u001b[43m \u001b[49m\u001b[38;5;241;43m*\u001b[39;49m\u001b[38;5;241;43m*\u001b[39;49m\u001b[43mkwargs\u001b[49m\u001b[43m)\u001b[49m\n\u001b[1;32m   1764\u001b[0m result \u001b[38;5;241m=\u001b[39m \u001b[38;5;28;01mNone\u001b[39;00m\n\u001b[1;32m   1765\u001b[0m called_always_called_hooks \u001b[38;5;241m=\u001b[39m \u001b[38;5;28mset\u001b[39m()\n",
      "\u001b[0;31mKeyboardInterrupt\u001b[0m: "
     ]
    }
   ],
   "source": [
    "import os\n",
    "import pandas as pd\n",
    "from tqdm.auto import tqdm\n",
    "\n",
    "# 1) Carica il DataFrame (già fatto in precedenza)\n",
    "# df = pd.read_csv(\"il_tuo_file.csv\")  \n",
    "\n",
    "# Se non esiste ancora la colonna 'hat', la creiamo vuota\n",
    "if 'hat' not in df.columns:\n",
    "    df['hat'] = None\n",
    "\n",
    "# 2) File di output per le predizioni in append\n",
    "out_file = \"hat_preds.csv\"\n",
    "# Se è il primo giro, scrivo l'header con tutte le colonne che mi servono\n",
    "if not os.path.exists(out_file):\n",
    "    pd.DataFrame(\n",
    "        columns=['turn','dialogue_id','utterance','hat']\n",
    "    ).to_csv(out_file, index=False)\n",
    "\n",
    "\n",
    "# 3) Iterazione riga‑per‑riga\n",
    "for idx in tqdm(range(len(df))):\n",
    "    text = df.at[idx, 'utterance'].replace(\"__eou__\", \"\")\n",
    "    pred = is_green_hat([text])[0]\n",
    "    df.at[idx, 'hat'] = pred\n",
    "\n",
    "    # Ogni 100 righe faccio append al file\n",
    "    if (idx + 1) % 100 == 0:\n",
    "        chunk = df.loc[idx-99:idx, ['turn','dialogue_id','utterance','hat']]\n",
    "        chunk.to_csv(out_file, mode='a', header=False, index=False)\n",
    "\n",
    "# 4) Alla fine salvo eventuale “coda” residua\n",
    "last_mod = len(df) % 100\n",
    "if last_mod > 0:\n",
    "    chunk = df.loc[len(df)-last_mod:len(df)-1, ['turn','dialogue_id','utterance','hat']]\n",
    "    chunk.to_csv(out_file, mode='a', header=False, index=False)\n",
    "\n",
    "# 5) Se vuoi mantenere tutto il df aggiornato anche in un unico file completo:\n",
    "df.to_csv(\"df_with_hat.csv\", index=False)\n"
   ]
  },
  {
   "cell_type": "code",
   "execution_count": 74,
   "id": "1e3bcbbf",
   "metadata": {},
   "outputs": [
    {
     "name": "stdout",
     "output_type": "stream",
     "text": [
      "Righe già etichettate: 102968 di 102968\n"
     ]
    }
   ],
   "source": [
    "print(\"Righe già etichettate:\", df['hat'].notna().sum(),\n",
    "      \"di\", len(df))\n"
   ]
  },
  {
   "cell_type": "code",
   "execution_count": 75,
   "metadata": {},
   "outputs": [
    {
     "data": {
      "application/vnd.microsoft.datawrangler.viewer.v0+json": {
       "columns": [
        {
         "name": "index",
         "rawType": "int64",
         "type": "integer"
        },
        {
         "name": "turn",
         "rawType": "int64",
         "type": "integer"
        },
        {
         "name": "utterance",
         "rawType": "object",
         "type": "string"
        },
        {
         "name": "emotion",
         "rawType": "object",
         "type": "string"
        },
        {
         "name": "act",
         "rawType": "object",
         "type": "string"
        },
        {
         "name": "hat",
         "rawType": "object",
         "type": "string"
        },
        {
         "name": "dialogue_id",
         "rawType": "int64",
         "type": "integer"
        },
        {
         "name": "topic",
         "rawType": "object",
         "type": "string"
        }
       ],
       "ref": "8adab33d-e289-4d45-ae1b-8a7595c8ae63",
       "rows": [
        [
         "0",
         "0",
         "The kitchen stinks .",
         "disgust",
         "directive",
         "",
         "0",
         "Ordinary_Life"
        ],
        [
         "1",
         "1",
         "I'll throw out the garbage . __eou__",
         "no_emotion",
         "commissive",
         "",
         "0",
         "Ordinary_Life"
        ],
        [
         "2",
         "0",
         "So Dick , how about getting some coffee for tonight ?",
         "happiness",
         "directive",
         "",
         "1",
         "Ordinary_Life"
        ],
        [
         "3",
         "1",
         "Coffee ? I don ’ t honestly like that kind of stuff .",
         "disgust",
         "commissive",
         "",
         "1",
         "Ordinary_Life"
        ],
        [
         "4",
         "2",
         "Come on , you can at least try a little , besides your cigarette .",
         "no_emotion",
         "directive",
         "",
         "1",
         "Ordinary_Life"
        ],
        [
         "5",
         "3",
         "What ’ s wrong with that ? Cigarette is the thing I go crazy for .",
         "anger",
         "inform",
         "",
         "1",
         "Ordinary_Life"
        ],
        [
         "6",
         "4",
         "Not for me , Dick . __eou__",
         "no_emotion",
         "inform",
         "",
         "1",
         "Ordinary_Life"
        ],
        [
         "7",
         "0",
         "Are things still going badly with your houseguest ?",
         "no_emotion",
         "question",
         "",
         "2",
         "Ordinary_Life"
        ],
        [
         "8",
         "1",
         "Getting worse . Now he ’ s eating me out of house and home . I ’ Ve tried talking to him but it all goes in one ear and out the other . He makes himself at home , which is fine . But what really gets me is that yesterday he walked into the living room in the raw and I had company over ! That was the last straw .",
         "anger",
         "inform",
         "",
         "2",
         "Ordinary_Life"
        ],
        [
         "9",
         "2",
         "Leo , I really think you ’ re beating around the bush with this guy . I know he used to be your best friend in college , but I really think it ’ s time to lay down the law .",
         "no_emotion",
         "directive",
         "",
         "2",
         "Ordinary_Life"
        ],
        [
         "10",
         "3",
         "You ’ re right . Everything is probably going to come to a head tonight . I ’ ll keep you informed . __eou__",
         "no_emotion",
         "commissive",
         "",
         "2",
         "Ordinary_Life"
        ],
        [
         "11",
         "0",
         "Would you mind waiting a while ?",
         "no_emotion",
         "directive",
         "",
         "3",
         "Ordinary_Life"
        ],
        [
         "12",
         "1",
         "Well , how long will it be ?",
         "no_emotion",
         "question",
         "",
         "3",
         "Ordinary_Life"
        ],
        [
         "13",
         "2",
         "I'm not sure . But I'll get a table ready as fast as I can .",
         "no_emotion",
         "inform",
         "",
         "3",
         "Ordinary_Life"
        ],
        [
         "14",
         "3",
         "OK . We'll wait . __eou__",
         "happiness",
         "inform",
         "",
         "3",
         "Ordinary_Life"
        ],
        [
         "15",
         "0",
         "Are you going to the annual party ? I can give you a ride if you need one .",
         "no_emotion",
         "directive",
         "",
         "4",
         "Ordinary_Life"
        ],
        [
         "16",
         "1",
         "Thanks a lot . That's the favor I was going to ask you for .",
         "happiness",
         "commissive",
         "",
         "4",
         "Ordinary_Life"
        ],
        [
         "17",
         "2",
         "The pleasure is mine . __eou__",
         "happiness",
         "inform",
         "",
         "4",
         "Ordinary_Life"
        ],
        [
         "18",
         "0",
         "Isn ’ t he the best instructor ? I think he ’ s so hot . Wow ! I really feel energized , don ’ t you ?",
         "happiness",
         "question",
         "",
         "5",
         "Ordinary_Life"
        ],
        [
         "19",
         "1",
         "I swear , I ’ m going to kill you for this .",
         "disgust",
         "inform",
         "",
         "5",
         "Ordinary_Life"
        ],
        [
         "20",
         "2",
         "What ’ s wrong ? Didn ’ t you think it was fun ? !",
         "surprise",
         "question",
         "",
         "5",
         "Ordinary_Life"
        ],
        [
         "21",
         "3",
         "Oh , yeah ! I had a blast ! I love sweating like a pig with a bunch of pot bellies who all smell bad . Sorry , I ’ m just not into this health kick .",
         "disgust",
         "inform",
         "",
         "5",
         "Ordinary_Life"
        ],
        [
         "22",
         "4",
         "Oh , no , get off it . It wasn ’ t such a killer class . You just have to get into it . Like they say , no pain , no gain .",
         "no_emotion",
         "directive",
         "",
         "5",
         "Ordinary_Life"
        ],
        [
         "23",
         "5",
         "I am wiped out . Thank you .",
         "no_emotion",
         "commissive",
         "",
         "5",
         "Ordinary_Life"
        ],
        [
         "24",
         "6",
         "Look , next time get yourself some comfy shoes . You ’ re gonna come back again with me , aren ’ t you ?",
         "no_emotion",
         "directive",
         "",
         "5",
         "Ordinary_Life"
        ],
        [
         "25",
         "7",
         "Never ! But thank you for inviting me .",
         "no_emotion",
         "commissive",
         "",
         "5",
         "Ordinary_Life"
        ],
        [
         "26",
         "8",
         "Come on . You ’ ll feel better after we hit the showers . __eou__",
         "no_emotion",
         "directive",
         "",
         "5",
         "Ordinary_Life"
        ],
        [
         "27",
         "0",
         "Can I take your order now or do you still want to look at the menu ?",
         "no_emotion",
         "question",
         "",
         "6",
         "Ordinary_Life"
        ],
        [
         "28",
         "1",
         "Well , I want a fillet steak , medium , but my little girl doesn't care for steak . Could she have something else instead ?",
         "no_emotion",
         "question",
         "",
         "6",
         "Ordinary_Life"
        ],
        [
         "29",
         "2",
         "Certainly . How about spaghetti with clams and shrimps .",
         "no_emotion",
         "directive",
         "",
         "6",
         "Ordinary_Life"
        ],
        [
         "30",
         "3",
         "Sounds delicious . OK . She'll try that . __eou__",
         "happiness",
         "commissive",
         "",
         "6",
         "Ordinary_Life"
        ],
        [
         "31",
         "0",
         "Can you manage chopsticks ?",
         "no_emotion",
         "question",
         "",
         "7",
         "Ordinary_Life"
        ],
        [
         "32",
         "1",
         "Why not ? See .",
         "no_emotion",
         "inform",
         "",
         "7",
         "Ordinary_Life"
        ],
        [
         "33",
         "2",
         "Good mastery . How do you like our Chinese food ?",
         "happiness",
         "question",
         "",
         "7",
         "Ordinary_Life"
        ],
        [
         "34",
         "3",
         "Oh , great ! It's delicious . You see , I am already putting on weight . There is one thing I don't like however , MSG .",
         "happiness",
         "inform",
         "",
         "7",
         "Ordinary_Life"
        ],
        [
         "35",
         "4",
         "What's wrong with MSG ? It helps to bring out the taste of the food .",
         "surprise",
         "question",
         "",
         "7",
         "Ordinary_Life"
        ],
        [
         "36",
         "5",
         "According to some studies it may cause cancer .",
         "no_emotion",
         "inform",
         "",
         "7",
         "Ordinary_Life"
        ],
        [
         "37",
         "6",
         "Oh , don't let that worry you . If that were true , China wouldn't have such a large population .",
         "no_emotion",
         "inform",
         "",
         "7",
         "Ordinary_Life"
        ],
        [
         "38",
         "7",
         "I just happen to have a question for you guys . Why do the Chinese cook the vegetables ? You see what I mean is that most vitamin are destroyed when heated .",
         "no_emotion",
         "question",
         "",
         "7",
         "Ordinary_Life"
        ],
        [
         "39",
         "8",
         "I don't know exactly . It's a tradition . Maybe it's for sanitary reasons . __eou__",
         "no_emotion",
         "inform",
         "",
         "7",
         "Ordinary_Life"
        ],
        [
         "40",
         "0",
         "I'm exhausted .",
         "no_emotion",
         "directive",
         "",
         "8",
         "Ordinary_Life"
        ],
        [
         "41",
         "1",
         "Okay , let's go home . __eou__",
         "no_emotion",
         "commissive",
         "",
         "8",
         "Ordinary_Life"
        ],
        [
         "42",
         "0",
         "Good evening . Welcome to Cherry's . Do you have a reservation ?",
         "no_emotion",
         "question",
         "",
         "9",
         "Ordinary_Life"
        ],
        [
         "43",
         "1",
         "No , we don't .",
         "no_emotion",
         "inform",
         "",
         "9",
         "Ordinary_Life"
        ],
        [
         "44",
         "2",
         "How many of you , please ?",
         "no_emotion",
         "question",
         "",
         "9",
         "Ordinary_Life"
        ],
        [
         "45",
         "3",
         "Six , including two kids .",
         "no_emotion",
         "inform",
         "",
         "9",
         "Ordinary_Life"
        ],
        [
         "46",
         "4",
         "I'm afraid all the big tables are taken . __eou__",
         "no_emotion",
         "inform",
         "",
         "9",
         "Ordinary_Life"
        ],
        [
         "47",
         "0",
         "What kind of food do you like ?",
         "no_emotion",
         "question",
         "",
         "10",
         "Ordinary_Life"
        ],
        [
         "48",
         "1",
         "I like Chinese food .",
         "happiness",
         "inform",
         "",
         "10",
         "Ordinary_Life"
        ],
        [
         "49",
         "2",
         "But your American ?",
         "surprise",
         "question",
         "",
         "10",
         "Ordinary_Life"
        ]
       ],
       "shape": {
        "columns": 7,
        "rows": 102968
       }
      },
      "text/html": [
       "<div>\n",
       "<style scoped>\n",
       "    .dataframe tbody tr th:only-of-type {\n",
       "        vertical-align: middle;\n",
       "    }\n",
       "\n",
       "    .dataframe tbody tr th {\n",
       "        vertical-align: top;\n",
       "    }\n",
       "\n",
       "    .dataframe thead th {\n",
       "        text-align: right;\n",
       "    }\n",
       "</style>\n",
       "<table border=\"1\" class=\"dataframe\">\n",
       "  <thead>\n",
       "    <tr style=\"text-align: right;\">\n",
       "      <th></th>\n",
       "      <th>turn</th>\n",
       "      <th>utterance</th>\n",
       "      <th>emotion</th>\n",
       "      <th>act</th>\n",
       "      <th>hat</th>\n",
       "      <th>dialogue_id</th>\n",
       "      <th>topic</th>\n",
       "    </tr>\n",
       "  </thead>\n",
       "  <tbody>\n",
       "    <tr>\n",
       "      <th>0</th>\n",
       "      <td>0</td>\n",
       "      <td>The kitchen stinks .</td>\n",
       "      <td>disgust</td>\n",
       "      <td>directive</td>\n",
       "      <td></td>\n",
       "      <td>0</td>\n",
       "      <td>Ordinary_Life</td>\n",
       "    </tr>\n",
       "    <tr>\n",
       "      <th>1</th>\n",
       "      <td>1</td>\n",
       "      <td>I'll throw out the garbage . __eou__</td>\n",
       "      <td>no_emotion</td>\n",
       "      <td>commissive</td>\n",
       "      <td></td>\n",
       "      <td>0</td>\n",
       "      <td>Ordinary_Life</td>\n",
       "    </tr>\n",
       "    <tr>\n",
       "      <th>2</th>\n",
       "      <td>0</td>\n",
       "      <td>So Dick , how about getting some coffee for to...</td>\n",
       "      <td>happiness</td>\n",
       "      <td>directive</td>\n",
       "      <td></td>\n",
       "      <td>1</td>\n",
       "      <td>Ordinary_Life</td>\n",
       "    </tr>\n",
       "    <tr>\n",
       "      <th>3</th>\n",
       "      <td>1</td>\n",
       "      <td>Coffee ? I don ’ t honestly like that kind of ...</td>\n",
       "      <td>disgust</td>\n",
       "      <td>commissive</td>\n",
       "      <td></td>\n",
       "      <td>1</td>\n",
       "      <td>Ordinary_Life</td>\n",
       "    </tr>\n",
       "    <tr>\n",
       "      <th>4</th>\n",
       "      <td>2</td>\n",
       "      <td>Come on , you can at least try a little , besi...</td>\n",
       "      <td>no_emotion</td>\n",
       "      <td>directive</td>\n",
       "      <td></td>\n",
       "      <td>1</td>\n",
       "      <td>Ordinary_Life</td>\n",
       "    </tr>\n",
       "    <tr>\n",
       "      <th>...</th>\n",
       "      <td>...</td>\n",
       "      <td>...</td>\n",
       "      <td>...</td>\n",
       "      <td>...</td>\n",
       "      <td>...</td>\n",
       "      <td>...</td>\n",
       "      <td>...</td>\n",
       "    </tr>\n",
       "    <tr>\n",
       "      <th>102963</th>\n",
       "      <td>10</td>\n",
       "      <td>Well , thank you very much for all that inform...</td>\n",
       "      <td>no_emotion</td>\n",
       "      <td>directive</td>\n",
       "      <td></td>\n",
       "      <td>13117</td>\n",
       "      <td>Finance</td>\n",
       "    </tr>\n",
       "    <tr>\n",
       "      <th>102964</th>\n",
       "      <td>11</td>\n",
       "      <td>Are you going to make an offer today ?</td>\n",
       "      <td>no_emotion</td>\n",
       "      <td>question</td>\n",
       "      <td></td>\n",
       "      <td>13117</td>\n",
       "      <td>Finance</td>\n",
       "    </tr>\n",
       "    <tr>\n",
       "      <th>102965</th>\n",
       "      <td>12</td>\n",
       "      <td>Yes . My customer is in urgent need of the ste...</td>\n",
       "      <td>no_emotion</td>\n",
       "      <td>inform</td>\n",
       "      <td></td>\n",
       "      <td>13117</td>\n",
       "      <td>Finance</td>\n",
       "    </tr>\n",
       "    <tr>\n",
       "      <th>102966</th>\n",
       "      <td>13</td>\n",
       "      <td>Ok , I'll get this rate right away .</td>\n",
       "      <td>no_emotion</td>\n",
       "      <td>commissive</td>\n",
       "      <td></td>\n",
       "      <td>13117</td>\n",
       "      <td>Finance</td>\n",
       "    </tr>\n",
       "    <tr>\n",
       "      <th>102967</th>\n",
       "      <td>14</td>\n",
       "      <td>Thank you . __eou__</td>\n",
       "      <td>happiness</td>\n",
       "      <td>inform</td>\n",
       "      <td></td>\n",
       "      <td>13117</td>\n",
       "      <td>Finance</td>\n",
       "    </tr>\n",
       "  </tbody>\n",
       "</table>\n",
       "<p>102968 rows × 7 columns</p>\n",
       "</div>"
      ],
      "text/plain": [
       "        turn                                          utterance     emotion  \\\n",
       "0          0                               The kitchen stinks .     disgust   \n",
       "1          1               I'll throw out the garbage . __eou__  no_emotion   \n",
       "2          0  So Dick , how about getting some coffee for to...   happiness   \n",
       "3          1  Coffee ? I don ’ t honestly like that kind of ...     disgust   \n",
       "4          2  Come on , you can at least try a little , besi...  no_emotion   \n",
       "...      ...                                                ...         ...   \n",
       "102963    10  Well , thank you very much for all that inform...  no_emotion   \n",
       "102964    11             Are you going to make an offer today ?  no_emotion   \n",
       "102965    12  Yes . My customer is in urgent need of the ste...  no_emotion   \n",
       "102966    13               Ok , I'll get this rate right away .  no_emotion   \n",
       "102967    14                                Thank you . __eou__   happiness   \n",
       "\n",
       "               act hat  dialogue_id          topic  \n",
       "0        directive                0  Ordinary_Life  \n",
       "1       commissive                0  Ordinary_Life  \n",
       "2        directive                1  Ordinary_Life  \n",
       "3       commissive                1  Ordinary_Life  \n",
       "4        directive                1  Ordinary_Life  \n",
       "...            ...  ..          ...            ...  \n",
       "102963   directive            13117        Finance  \n",
       "102964    question            13117        Finance  \n",
       "102965      inform            13117        Finance  \n",
       "102966  commissive            13117        Finance  \n",
       "102967      inform            13117        Finance  \n",
       "\n",
       "[102968 rows x 7 columns]"
      ]
     },
     "execution_count": 75,
     "metadata": {},
     "output_type": "execute_result"
    }
   ],
   "source": [
    "df"
   ]
  },
  {
   "cell_type": "code",
   "execution_count": null,
   "id": "29d8e7d4",
   "metadata": {},
   "outputs": [],
   "source": []
  }
 ],
 "metadata": {
  "kernelspec": {
   "display_name": "venv_hlt",
   "language": "python",
   "name": "python3"
  },
  "language_info": {
   "codemirror_mode": {
    "name": "ipython",
    "version": 3
   },
   "file_extension": ".py",
   "mimetype": "text/x-python",
   "name": "python",
   "nbconvert_exporter": "python",
   "pygments_lexer": "ipython3",
   "version": "3.10.13"
  }
 },
 "nbformat": 4,
 "nbformat_minor": 5
}
