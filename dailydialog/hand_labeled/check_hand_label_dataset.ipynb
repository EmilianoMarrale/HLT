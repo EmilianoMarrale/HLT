{
 "cells": [
  {
   "cell_type": "markdown",
   "id": "6ce285a1",
   "metadata": {},
   "source": [
    "# Defining functions"
   ]
  },
  {
   "cell_type": "code",
   "execution_count": 1,
   "id": "8f30279e",
   "metadata": {},
   "outputs": [],
   "source": [
    "emo1_path = '/home/atlas/hlt/HLT/dailydialog/1_50_emotion&attitude_dialogues.json'\n",
    "emo2_path = '/home/atlas/hlt/HLT/dailydialog/2_50_emotion&attitude_dialogues.json'\n",
    "relat_path = '/home/atlas/hlt/HLT/dailydialog/50_relationship_dialogues.json'\n",
    "work_path = '/home/atlas/hlt/HLT/dailydialog/50_work_dialogues_labeled.json'"
   ]
  },
  {
   "cell_type": "code",
   "execution_count": 2,
   "id": "2bc4c501",
   "metadata": {},
   "outputs": [],
   "source": [
    "import pandas as pd\n",
    "import json\n",
    "# load the data in one single dataframe\n",
    "def load_data(file_path):\n",
    "    with open(file_path, 'r', encoding='utf-8') as f:\n",
    "        data = json.load(f)\n",
    "    return pd.DataFrame(data)"
   ]
  },
  {
   "cell_type": "code",
   "execution_count": 3,
   "id": "bd52dbba",
   "metadata": {},
   "outputs": [],
   "source": [
    "def refactor(df):# Extract all utterances from the dialogues\n",
    "    all_utterances = []\n",
    "\n",
    "    for _, row in df.iterrows():\n",
    "        # Each row has an 'utterances' field which is a list of utterance dictionaries\n",
    "        utterances = row['utterances']\n",
    "\n",
    "        # Add dialogue ID and topic to each utterance for reference\n",
    "        for utterance in utterances:\n",
    "            utterance['dialogue_id'] = row['id']\n",
    "            utterance['topic'] = row['topic']\n",
    "            all_utterances.append(utterance)\n",
    "\n",
    "    # Convert to DataFrame for easier analysis\n",
    "    df = pd.DataFrame(all_utterances)\n",
    "    return df"
   ]
  },
  {
   "cell_type": "markdown",
   "id": "6cd79062",
   "metadata": {},
   "source": [
    "# Check for errors"
   ]
  },
  {
   "cell_type": "code",
   "execution_count": 4,
   "id": "64777afa",
   "metadata": {},
   "outputs": [
    {
     "data": {
      "text/plain": [
       "hat\n",
       "red       140\n",
       "white      79\n",
       "black      19\n",
       "green       4\n",
       "yellow      3\n",
       "Name: count, dtype: int64"
      ]
     },
     "execution_count": 4,
     "metadata": {},
     "output_type": "execute_result"
    }
   ],
   "source": [
    "dataset_path = emo1_path\n",
    "emo1_df = load_data(dataset_path)\n",
    "emo1_df = refactor(emo1_df)\n",
    "freq = emo1_df['hat'].value_counts()\n",
    "freq"
   ]
  },
  {
   "cell_type": "code",
   "execution_count": 5,
   "id": "43db98cf",
   "metadata": {},
   "outputs": [
    {
     "data": {
      "text/plain": [
       "hat\n",
       "white     150\n",
       "black      43\n",
       "green      27\n",
       "yellow     25\n",
       "red        22\n",
       "Name: count, dtype: int64"
      ]
     },
     "execution_count": 5,
     "metadata": {},
     "output_type": "execute_result"
    }
   ],
   "source": [
    "dataset_path = emo2_path\n",
    "emo2_df = load_data(dataset_path)\n",
    "emo2_df = refactor(emo2_df)\n",
    "freq = emo2_df['hat'].value_counts()\n",
    "freq"
   ]
  },
  {
   "cell_type": "code",
   "execution_count": 6,
   "id": "40a5b16f",
   "metadata": {},
   "outputs": [
    {
     "data": {
      "text/plain": [
       "hat\n",
       "white     138\n",
       "yellow     34\n",
       "red        10\n",
       "green       8\n",
       "black       3\n",
       "Name: count, dtype: int64"
      ]
     },
     "execution_count": 6,
     "metadata": {},
     "output_type": "execute_result"
    }
   ],
   "source": [
    "dataset_path = relat_path\n",
    "rel_df = load_data(dataset_path)\n",
    "rel_df = refactor(rel_df)\n",
    "freq = rel_df['hat'].value_counts()\n",
    "freq"
   ]
  },
  {
   "cell_type": "code",
   "execution_count": 7,
   "id": "ac54feec",
   "metadata": {},
   "outputs": [
    {
     "data": {
      "text/plain": [
       "hat\n",
       "white         186\n",
       "black          46\n",
       "yellow         34\n",
       "red            30\n",
       "green          20\n",
       "rosso           1\n",
       "bwhitelack      1\n",
       "                1\n",
       "Name: count, dtype: int64"
      ]
     },
     "execution_count": 7,
     "metadata": {},
     "output_type": "execute_result"
    }
   ],
   "source": [
    "dataset_path = work_path\n",
    "work_df = load_data(dataset_path)\n",
    "work_df = refactor(work_df)\n",
    "freq = work_df['hat'].value_counts()\n",
    "freq"
   ]
  },
  {
   "cell_type": "markdown",
   "id": "ae8692a8",
   "metadata": {},
   "source": [
    "# Fixing work dialogues file\n",
    "- the 'rosso' value is clearly red\n",
    "- the empty value is yellow, it was inserted in 'act' column\n",
    "- the bwhitelack I think is black"
   ]
  },
  {
   "cell_type": "code",
   "execution_count": 8,
   "id": "eb96e37f",
   "metadata": {},
   "outputs": [
    {
     "data": {
      "application/vnd.microsoft.datawrangler.viewer.v0+json": {
       "columns": [
        {
         "name": "index",
         "rawType": "int64",
         "type": "integer"
        },
        {
         "name": "turn",
         "rawType": "int64",
         "type": "integer"
        },
        {
         "name": "utterance",
         "rawType": "object",
         "type": "string"
        },
        {
         "name": "emotion",
         "rawType": "object",
         "type": "string"
        },
        {
         "name": "act",
         "rawType": "object",
         "type": "string"
        },
        {
         "name": "hat",
         "rawType": "object",
         "type": "string"
        },
        {
         "name": "dialogue_id",
         "rawType": "int64",
         "type": "integer"
        },
        {
         "name": "topic",
         "rawType": "object",
         "type": "string"
        }
       ],
       "conversionMethod": "pd.DataFrame",
       "ref": "185a91da-b46e-435a-9a8c-3f467e68fab8",
       "rows": [
        [
         "47",
         "1",
         "Sorry , I'm supposed to be with my son .",
         "no_emotion",
         "commissive",
         "rosso",
         "10463",
         "Work"
        ]
       ],
       "shape": {
        "columns": 7,
        "rows": 1
       }
      },
      "text/html": [
       "<div>\n",
       "<style scoped>\n",
       "    .dataframe tbody tr th:only-of-type {\n",
       "        vertical-align: middle;\n",
       "    }\n",
       "\n",
       "    .dataframe tbody tr th {\n",
       "        vertical-align: top;\n",
       "    }\n",
       "\n",
       "    .dataframe thead th {\n",
       "        text-align: right;\n",
       "    }\n",
       "</style>\n",
       "<table border=\"1\" class=\"dataframe\">\n",
       "  <thead>\n",
       "    <tr style=\"text-align: right;\">\n",
       "      <th></th>\n",
       "      <th>turn</th>\n",
       "      <th>utterance</th>\n",
       "      <th>emotion</th>\n",
       "      <th>act</th>\n",
       "      <th>hat</th>\n",
       "      <th>dialogue_id</th>\n",
       "      <th>topic</th>\n",
       "    </tr>\n",
       "  </thead>\n",
       "  <tbody>\n",
       "    <tr>\n",
       "      <th>47</th>\n",
       "      <td>1</td>\n",
       "      <td>Sorry , I'm supposed to be with my son .</td>\n",
       "      <td>no_emotion</td>\n",
       "      <td>commissive</td>\n",
       "      <td>rosso</td>\n",
       "      <td>10463</td>\n",
       "      <td>Work</td>\n",
       "    </tr>\n",
       "  </tbody>\n",
       "</table>\n",
       "</div>"
      ],
      "text/plain": [
       "    turn                                 utterance     emotion         act  \\\n",
       "47     1  Sorry , I'm supposed to be with my son .  no_emotion  commissive   \n",
       "\n",
       "      hat  dialogue_id topic  \n",
       "47  rosso        10463  Work  "
      ]
     },
     "execution_count": 8,
     "metadata": {},
     "output_type": "execute_result"
    }
   ],
   "source": [
    "# show the rows of df where the value of 'hat' is 'rosso'\n",
    "error_1 = work_df[work_df['hat'] == 'rosso']\n",
    "error_1"
   ]
  },
  {
   "cell_type": "code",
   "execution_count": 9,
   "id": "027d0b87",
   "metadata": {},
   "outputs": [
    {
     "data": {
      "application/vnd.microsoft.datawrangler.viewer.v0+json": {
       "columns": [
        {
         "name": "index",
         "rawType": "int64",
         "type": "integer"
        },
        {
         "name": "turn",
         "rawType": "int64",
         "type": "integer"
        },
        {
         "name": "utterance",
         "rawType": "object",
         "type": "string"
        },
        {
         "name": "emotion",
         "rawType": "object",
         "type": "string"
        },
        {
         "name": "act",
         "rawType": "object",
         "type": "string"
        },
        {
         "name": "hat",
         "rawType": "object",
         "type": "string"
        },
        {
         "name": "dialogue_id",
         "rawType": "int64",
         "type": "integer"
        },
        {
         "name": "topic",
         "rawType": "object",
         "type": "string"
        }
       ],
       "conversionMethod": "pd.DataFrame",
       "ref": "fab97268-4b08-492a-ac97-550c47f07010",
       "rows": [
        [
         "201",
         "4",
         "I'm sure it will , if we are appointed your agent . Your garments are attractive , and we , a well-established importer with multiple sales channels , can boost the sales .",
         "no_emotion",
         "yellow",
         "",
         "10487",
         "Work"
        ]
       ],
       "shape": {
        "columns": 7,
        "rows": 1
       }
      },
      "text/html": [
       "<div>\n",
       "<style scoped>\n",
       "    .dataframe tbody tr th:only-of-type {\n",
       "        vertical-align: middle;\n",
       "    }\n",
       "\n",
       "    .dataframe tbody tr th {\n",
       "        vertical-align: top;\n",
       "    }\n",
       "\n",
       "    .dataframe thead th {\n",
       "        text-align: right;\n",
       "    }\n",
       "</style>\n",
       "<table border=\"1\" class=\"dataframe\">\n",
       "  <thead>\n",
       "    <tr style=\"text-align: right;\">\n",
       "      <th></th>\n",
       "      <th>turn</th>\n",
       "      <th>utterance</th>\n",
       "      <th>emotion</th>\n",
       "      <th>act</th>\n",
       "      <th>hat</th>\n",
       "      <th>dialogue_id</th>\n",
       "      <th>topic</th>\n",
       "    </tr>\n",
       "  </thead>\n",
       "  <tbody>\n",
       "    <tr>\n",
       "      <th>201</th>\n",
       "      <td>4</td>\n",
       "      <td>I'm sure it will , if we are appointed your ag...</td>\n",
       "      <td>no_emotion</td>\n",
       "      <td>yellow</td>\n",
       "      <td></td>\n",
       "      <td>10487</td>\n",
       "      <td>Work</td>\n",
       "    </tr>\n",
       "  </tbody>\n",
       "</table>\n",
       "</div>"
      ],
      "text/plain": [
       "     turn                                          utterance     emotion  \\\n",
       "201     4  I'm sure it will , if we are appointed your ag...  no_emotion   \n",
       "\n",
       "        act hat  dialogue_id topic  \n",
       "201  yellow            10487  Work  "
      ]
     },
     "execution_count": 9,
     "metadata": {},
     "output_type": "execute_result"
    }
   ],
   "source": [
    "error_2 = work_df[work_df['hat'] == '']\n",
    "error_2"
   ]
  },
  {
   "cell_type": "code",
   "execution_count": 10,
   "id": "2e345b49",
   "metadata": {},
   "outputs": [
    {
     "data": {
      "application/vnd.microsoft.datawrangler.viewer.v0+json": {
       "columns": [
        {
         "name": "index",
         "rawType": "int64",
         "type": "integer"
        },
        {
         "name": "turn",
         "rawType": "int64",
         "type": "integer"
        },
        {
         "name": "utterance",
         "rawType": "object",
         "type": "string"
        },
        {
         "name": "emotion",
         "rawType": "object",
         "type": "string"
        },
        {
         "name": "act",
         "rawType": "object",
         "type": "string"
        },
        {
         "name": "hat",
         "rawType": "object",
         "type": "string"
        },
        {
         "name": "dialogue_id",
         "rawType": "int64",
         "type": "integer"
        },
        {
         "name": "topic",
         "rawType": "object",
         "type": "string"
        }
       ],
       "conversionMethod": "pd.DataFrame",
       "ref": "d51249e8-bf34-4183-8300-eca40be94a14",
       "rows": [
        [
         "153",
         "10",
         "What if the results from the two inspections do not coincide with each other ?",
         "no_emotion",
         "question",
         "bwhitelack",
         "10481",
         "Work"
        ]
       ],
       "shape": {
        "columns": 7,
        "rows": 1
       }
      },
      "text/html": [
       "<div>\n",
       "<style scoped>\n",
       "    .dataframe tbody tr th:only-of-type {\n",
       "        vertical-align: middle;\n",
       "    }\n",
       "\n",
       "    .dataframe tbody tr th {\n",
       "        vertical-align: top;\n",
       "    }\n",
       "\n",
       "    .dataframe thead th {\n",
       "        text-align: right;\n",
       "    }\n",
       "</style>\n",
       "<table border=\"1\" class=\"dataframe\">\n",
       "  <thead>\n",
       "    <tr style=\"text-align: right;\">\n",
       "      <th></th>\n",
       "      <th>turn</th>\n",
       "      <th>utterance</th>\n",
       "      <th>emotion</th>\n",
       "      <th>act</th>\n",
       "      <th>hat</th>\n",
       "      <th>dialogue_id</th>\n",
       "      <th>topic</th>\n",
       "    </tr>\n",
       "  </thead>\n",
       "  <tbody>\n",
       "    <tr>\n",
       "      <th>153</th>\n",
       "      <td>10</td>\n",
       "      <td>What if the results from the two inspections d...</td>\n",
       "      <td>no_emotion</td>\n",
       "      <td>question</td>\n",
       "      <td>bwhitelack</td>\n",
       "      <td>10481</td>\n",
       "      <td>Work</td>\n",
       "    </tr>\n",
       "  </tbody>\n",
       "</table>\n",
       "</div>"
      ],
      "text/plain": [
       "     turn                                          utterance     emotion  \\\n",
       "153    10  What if the results from the two inspections d...  no_emotion   \n",
       "\n",
       "          act         hat  dialogue_id topic  \n",
       "153  question  bwhitelack        10481  Work  "
      ]
     },
     "execution_count": 10,
     "metadata": {},
     "output_type": "execute_result"
    }
   ],
   "source": [
    "# show the rows of df where the value of 'hat' is 'rosso'\n",
    "error_3 = work_df[work_df['hat'] == 'bwhitelack']\n",
    "error_3"
   ]
  },
  {
   "cell_type": "code",
   "execution_count": 11,
   "id": "5c6fa0eb",
   "metadata": {},
   "outputs": [],
   "source": [
    "work_df['hat'] = work_df['hat'].replace('rosso', 'red')\n",
    "work_df.loc[work_df['hat'] == '', 'act'] = 'directive'\n",
    "work_df['hat'] = work_df['hat'].replace('', 'yellow')\n",
    "work_df['hat'] = work_df['hat'].replace('bwhitelack', 'black')"
   ]
  },
  {
   "cell_type": "code",
   "execution_count": 12,
   "id": "66974e18",
   "metadata": {},
   "outputs": [
    {
     "data": {
      "text/plain": [
       "hat\n",
       "white     186\n",
       "black      47\n",
       "yellow     35\n",
       "red        31\n",
       "green      20\n",
       "Name: count, dtype: int64"
      ]
     },
     "execution_count": 12,
     "metadata": {},
     "output_type": "execute_result"
    }
   ],
   "source": [
    "freq = work_df['hat'].value_counts()\n",
    "freq"
   ]
  },
  {
   "cell_type": "markdown",
   "id": "d3fdddab",
   "metadata": {},
   "source": [
    "# join all the dfs"
   ]
  },
  {
   "cell_type": "code",
   "execution_count": 13,
   "id": "3ff7c2d8",
   "metadata": {},
   "outputs": [],
   "source": [
    "# join all the dataframes\n",
    "all_df = pd.concat([emo1_df, emo2_df, rel_df, work_df], ignore_index=True)"
   ]
  },
  {
   "cell_type": "code",
   "execution_count": 14,
   "id": "64b82cf0",
   "metadata": {},
   "outputs": [
    {
     "data": {
      "text/plain": [
       "hat\n",
       "white     553\n",
       "red       203\n",
       "black     112\n",
       "yellow     97\n",
       "green      59\n",
       "Name: count, dtype: int64"
      ]
     },
     "execution_count": 14,
     "metadata": {},
     "output_type": "execute_result"
    }
   ],
   "source": [
    "freq = all_df['hat'].value_counts()\n",
    "freq"
   ]
  },
  {
   "cell_type": "code",
   "execution_count": 15,
   "id": "69b3c310",
   "metadata": {},
   "outputs": [],
   "source": [
    "import json\n",
    "\n",
    "# partiamo da df, il DataFrame “piatto” con colonne tipo:\n",
    "# ['dialogue_id','topic','turn','utterance','emotion','act','hat', …]\n",
    "\n",
    "# 1. Raggruppa per dialogo\n",
    "dialogues = []\n",
    "for (did, topic), group in all_df.groupby(['dialogue_id','topic']):\n",
    "    # 2. Per ogni gruppo, estrai le utterances come lista di dict\n",
    "    utts = group.drop(columns=['dialogue_id','topic']) \\\n",
    "                .to_dict(orient='records')\n",
    "    # 3. Ricrea il dict del dialogo\n",
    "    dialogues.append({\n",
    "        'id': int(did),         # o lascia com’era (stringa)\n",
    "        'topic': topic,\n",
    "        'utterances': utts\n",
    "    })\n",
    "\n",
    "# 4. Scrivi su file\n",
    "with open('hand_labelled_dataset.json', 'w', encoding='utf-8') as f:\n",
    "    json.dump(dialogues, f, ensure_ascii=False, indent=2)\n"
   ]
  }
 ],
 "metadata": {
  "kernelspec": {
   "display_name": "venv_hlt",
   "language": "python",
   "name": "python3"
  },
  "language_info": {
   "codemirror_mode": {
    "name": "ipython",
    "version": 3
   },
   "file_extension": ".py",
   "mimetype": "text/x-python",
   "name": "python",
   "nbconvert_exporter": "python",
   "pygments_lexer": "ipython3",
   "version": "3.10.13"
  }
 },
 "nbformat": 4,
 "nbformat_minor": 5
}
