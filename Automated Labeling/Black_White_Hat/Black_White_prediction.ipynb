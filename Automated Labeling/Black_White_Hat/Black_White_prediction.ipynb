{
 "cells": [
  {
   "cell_type": "code",
   "id": "initial_id",
   "metadata": {
    "collapsed": true,
    "ExecuteTime": {
     "end_time": "2025-05-21T20:14:49.392946Z",
     "start_time": "2025-05-21T20:14:47.495088Z"
    }
   },
   "source": [
    "import numpy as np\n",
    "import pandas as pd\n",
    "import keras\n",
    "from keras import Input, Model\n",
    "from keras import optimizers\n",
    "from keras import losses\n",
    "from keras import metrics\n",
    "import keras_nlp\n",
    "import tensorflow as tf\n",
    "from keras_nlp.models import RobertaPreprocessor\n",
    "from util import get_dataframe_from_json"
   ],
   "outputs": [
    {
     "name": "stderr",
     "output_type": "stream",
     "text": [
      "2025-05-21 22:14:47.816801: I tensorflow/core/util/port.cc:153] oneDNN custom operations are on. You may see slightly different numerical results due to floating-point round-off errors from different computation orders. To turn them off, set the environment variable `TF_ENABLE_ONEDNN_OPTS=0`.\n",
      "2025-05-21 22:14:47.824294: E external/local_xla/xla/stream_executor/cuda/cuda_fft.cc:467] Unable to register cuFFT factory: Attempting to register factory for plugin cuFFT when one has already been registered\n",
      "WARNING: All log messages before absl::InitializeLog() is called are written to STDERR\n",
      "E0000 00:00:1747858487.833487   20267 cuda_dnn.cc:8579] Unable to register cuDNN factory: Attempting to register factory for plugin cuDNN when one has already been registered\n",
      "E0000 00:00:1747858487.836041   20267 cuda_blas.cc:1407] Unable to register cuBLAS factory: Attempting to register factory for plugin cuBLAS when one has already been registered\n",
      "W0000 00:00:1747858487.843286   20267 computation_placer.cc:177] computation placer already registered. Please check linkage and avoid linking the same target more than once.\n",
      "W0000 00:00:1747858487.843302   20267 computation_placer.cc:177] computation placer already registered. Please check linkage and avoid linking the same target more than once.\n",
      "W0000 00:00:1747858487.843303   20267 computation_placer.cc:177] computation placer already registered. Please check linkage and avoid linking the same target more than once.\n",
      "W0000 00:00:1747858487.843304   20267 computation_placer.cc:177] computation placer already registered. Please check linkage and avoid linking the same target more than once.\n",
      "2025-05-21 22:14:47.846119: I tensorflow/core/platform/cpu_feature_guard.cc:210] This TensorFlow binary is optimized to use available CPU instructions in performance-critical operations.\n",
      "To enable the following instructions: AVX2 AVX_VNNI FMA, in other operations, rebuild TensorFlow with the appropriate compiler flags.\n",
      "/home/emiliano/Desktop/Università/Human Language Technologies/Project/HLT Project/venv/lib/python3.12/site-packages/tqdm/auto.py:21: TqdmWarning: IProgress not found. Please update jupyter and ipywidgets. See https://ipywidgets.readthedocs.io/en/stable/user_install.html\n",
      "  from .autonotebook import tqdm as notebook_tqdm\n"
     ]
    }
   ],
   "execution_count": 2
  },
  {
   "metadata": {},
   "cell_type": "markdown",
   "source": "### Loading the model",
   "id": "6355fce79ac8e428"
  },
  {
   "metadata": {
    "ExecuteTime": {
     "end_time": "2025-05-17T19:28:35.442933Z",
     "start_time": "2025-05-17T19:28:34.553822Z"
    }
   },
   "cell_type": "code",
   "source": "preprocessor = RobertaPreprocessor.from_preset(\"roberta_base_en\")",
   "id": "9fd32302b3962ba3",
   "outputs": [],
   "execution_count": 42
  },
  {
   "metadata": {
    "ExecuteTime": {
     "end_time": "2025-05-17T19:28:44.346462Z",
     "start_time": "2025-05-17T19:28:38.224147Z"
    }
   },
   "cell_type": "code",
   "source": [
    "backbone = keras_nlp.models.RobertaBackbone.from_preset(\"roberta_base_en\")\n",
    "backbone.trainable = False\n",
    "inputs = Input(shape=(), dtype=\"string\", name=\"sentence\")\n",
    "preprocess = preprocessor(inputs)\n",
    "embed = backbone(preprocess)\n",
    "encoder = Model(inputs=inputs, outputs=embed)"
   ],
   "id": "4ffcf4297fde7022",
   "outputs": [],
   "execution_count": 43
  },
  {
   "metadata": {
    "ExecuteTime": {
     "end_time": "2025-05-17T15:52:55.440444Z",
     "start_time": "2025-05-17T15:52:55.281641Z"
    }
   },
   "cell_type": "code",
   "source": [
    "cnn = keras.saving.load_model(\n",
    "    \"roberta_cnn.keras\",\n",
    "    custom_objects={\n",
    "        \"Conv1D\": keras.layers.Conv1D,\n",
    "        \"LeakyReLU\": keras.layers.LeakyReLU,\n",
    "        \"CategoricalCrossentropy\": losses.CategoricalCrossentropy,\n",
    "        \"F1Score\": metrics.F1Score,\n",
    "        \"RMSprop\": optimizers.RMSprop,\n",
    "        # add any other custom layers, losses, or metrics here\n",
    "    }\n",
    ")\n",
    "embed_cnn = cnn(embed)\n",
    "\n",
    "full_model = Model(inputs=inputs, outputs=embed_cnn)\n",
    "levels = [\"Knowledge\", \"Comprehension\", \"Application\", \"Analysis\", \"Synthesis\", \"Evaluation\"]\n",
    "np.sort(levels)"
   ],
   "id": "e760f6a61bc53a2e",
   "outputs": [
    {
     "data": {
      "text/plain": [
       "array(['Analysis', 'Application', 'Comprehension', 'Evaluation',\n",
       "       'Knowledge', 'Synthesis'], dtype='<U13')"
      ]
     },
     "execution_count": 4,
     "metadata": {},
     "output_type": "execute_result"
    }
   ],
   "execution_count": 4
  },
  {
   "metadata": {},
   "cell_type": "markdown",
   "source": "### Merging the various datasets",
   "id": "da10751036d58fef"
  },
  {
   "metadata": {
    "ExecuteTime": {
     "end_time": "2025-05-19T14:24:39.566184Z",
     "start_time": "2025-05-19T14:24:36.967658Z"
    }
   },
   "cell_type": "code",
   "source": [
    "\n",
    "\n",
    "attitude_df = get_dataframe_from_json(\"../../dailydialog/attitude_emotion_dialogues.json\")\n",
    "work_df = get_dataframe_from_json(\"../../dailydialog/work_dialogues.json\")\n",
    "relationship_df = get_dataframe_from_json(\"../../dailydialog/relationship_dialogues.json\")\n",
    "\n",
    "\n",
    "df = pd.concat([attitude_df, work_df, relationship_df], ignore_index=True)"
   ],
   "id": "e1e70ae5a52699b",
   "outputs": [],
   "execution_count": 2
  },
  {
   "metadata": {},
   "cell_type": "markdown",
   "source": "### Model prediction",
   "id": "d06343ad0bcd6b0f"
  },
  {
   "metadata": {
    "ExecuteTime": {
     "end_time": "2025-05-17T18:37:57.567706Z",
     "start_time": "2025-05-17T16:04:11.928421Z"
    }
   },
   "cell_type": "code",
   "source": [
    "df['utterance'] = df['utterance'].astype(str)\n",
    "\n",
    "objects = []\n",
    "utterance_tensor = tf.constant(df['utterance'], dtype=tf.string)\n",
    "predictions = full_model.predict(utterance_tensor, batch_size=512)\n",
    "bloom_indices = np.argmax(predictions, axis=1)\n",
    "df['bloom_label'] = np.sort(levels)[bloom_indices]\n",
    "df['bloom_score'] = np.max(predictions, axis=1)\n",
    "df.to_json('dataset_with_bloom.json', orient='records', lines=True)\n",
    "df"
   ],
   "id": "87adb795db9378e0",
   "outputs": [
    {
     "name": "stdout",
     "output_type": "stream",
     "text": [
      "\u001B[1m100/100\u001B[0m \u001B[32m━━━━━━━━━━━━━━━━━━━━\u001B[0m\u001B[37m\u001B[0m \u001B[1m9225s\u001B[0m 92s/step\n"
     ]
    },
    {
     "data": {
      "text/plain": [
       "       turn                                          utterance     emotion  \\\n",
       "0         0       I'm so angry . I feel like killing someone .       anger   \n",
       "1         1                                Calm down . __eou__  no_emotion   \n",
       "2         0  I was just about to go to bed when the telepho...  no_emotion   \n",
       "3         1                                       Who was it ?  no_emotion   \n",
       "4         2  Kate . She said she was too excited to go to s...  no_emotion   \n",
       "...     ...                                                ...         ...   \n",
       "50922     5         I felt that the food was pretty mediocre .  no_emotion   \n",
       "50923     6           The service wasn't that great , either .  no_emotion   \n",
       "50924     7               I agree . The service was not good .  no_emotion   \n",
       "50925     8  Do you think that you want to try this restaur...  no_emotion   \n",
       "50926     9  No , I think that I've had enough of this rest...  no_emotion   \n",
       "\n",
       "            act hat    bloom_label  bloom_score  \n",
       "0        inform         Evaluation     0.792142  \n",
       "1        inform      Comprehension     0.512506  \n",
       "2        inform           Analysis     0.946143  \n",
       "3      question          Knowledge     0.999966  \n",
       "4        inform         Evaluation     0.957235  \n",
       "...         ...  ..            ...          ...  \n",
       "50922    inform         Evaluation     0.999984  \n",
       "50923    inform         Evaluation     0.999745  \n",
       "50924    inform         Evaluation     0.999773  \n",
       "50925  question         Evaluation     0.996227  \n",
       "50926    inform         Evaluation     0.999987  \n",
       "\n",
       "[50927 rows x 7 columns]"
      ],
      "text/html": [
       "<div>\n",
       "<style scoped>\n",
       "    .dataframe tbody tr th:only-of-type {\n",
       "        vertical-align: middle;\n",
       "    }\n",
       "\n",
       "    .dataframe tbody tr th {\n",
       "        vertical-align: top;\n",
       "    }\n",
       "\n",
       "    .dataframe thead th {\n",
       "        text-align: right;\n",
       "    }\n",
       "</style>\n",
       "<table border=\"1\" class=\"dataframe\">\n",
       "  <thead>\n",
       "    <tr style=\"text-align: right;\">\n",
       "      <th></th>\n",
       "      <th>turn</th>\n",
       "      <th>utterance</th>\n",
       "      <th>emotion</th>\n",
       "      <th>act</th>\n",
       "      <th>hat</th>\n",
       "      <th>bloom_label</th>\n",
       "      <th>bloom_score</th>\n",
       "    </tr>\n",
       "  </thead>\n",
       "  <tbody>\n",
       "    <tr>\n",
       "      <th>0</th>\n",
       "      <td>0</td>\n",
       "      <td>I'm so angry . I feel like killing someone .</td>\n",
       "      <td>anger</td>\n",
       "      <td>inform</td>\n",
       "      <td></td>\n",
       "      <td>Evaluation</td>\n",
       "      <td>0.792142</td>\n",
       "    </tr>\n",
       "    <tr>\n",
       "      <th>1</th>\n",
       "      <td>1</td>\n",
       "      <td>Calm down . __eou__</td>\n",
       "      <td>no_emotion</td>\n",
       "      <td>inform</td>\n",
       "      <td></td>\n",
       "      <td>Comprehension</td>\n",
       "      <td>0.512506</td>\n",
       "    </tr>\n",
       "    <tr>\n",
       "      <th>2</th>\n",
       "      <td>0</td>\n",
       "      <td>I was just about to go to bed when the telepho...</td>\n",
       "      <td>no_emotion</td>\n",
       "      <td>inform</td>\n",
       "      <td></td>\n",
       "      <td>Analysis</td>\n",
       "      <td>0.946143</td>\n",
       "    </tr>\n",
       "    <tr>\n",
       "      <th>3</th>\n",
       "      <td>1</td>\n",
       "      <td>Who was it ?</td>\n",
       "      <td>no_emotion</td>\n",
       "      <td>question</td>\n",
       "      <td></td>\n",
       "      <td>Knowledge</td>\n",
       "      <td>0.999966</td>\n",
       "    </tr>\n",
       "    <tr>\n",
       "      <th>4</th>\n",
       "      <td>2</td>\n",
       "      <td>Kate . She said she was too excited to go to s...</td>\n",
       "      <td>no_emotion</td>\n",
       "      <td>inform</td>\n",
       "      <td></td>\n",
       "      <td>Evaluation</td>\n",
       "      <td>0.957235</td>\n",
       "    </tr>\n",
       "    <tr>\n",
       "      <th>...</th>\n",
       "      <td>...</td>\n",
       "      <td>...</td>\n",
       "      <td>...</td>\n",
       "      <td>...</td>\n",
       "      <td>...</td>\n",
       "      <td>...</td>\n",
       "      <td>...</td>\n",
       "    </tr>\n",
       "    <tr>\n",
       "      <th>50922</th>\n",
       "      <td>5</td>\n",
       "      <td>I felt that the food was pretty mediocre .</td>\n",
       "      <td>no_emotion</td>\n",
       "      <td>inform</td>\n",
       "      <td></td>\n",
       "      <td>Evaluation</td>\n",
       "      <td>0.999984</td>\n",
       "    </tr>\n",
       "    <tr>\n",
       "      <th>50923</th>\n",
       "      <td>6</td>\n",
       "      <td>The service wasn't that great , either .</td>\n",
       "      <td>no_emotion</td>\n",
       "      <td>inform</td>\n",
       "      <td></td>\n",
       "      <td>Evaluation</td>\n",
       "      <td>0.999745</td>\n",
       "    </tr>\n",
       "    <tr>\n",
       "      <th>50924</th>\n",
       "      <td>7</td>\n",
       "      <td>I agree . The service was not good .</td>\n",
       "      <td>no_emotion</td>\n",
       "      <td>inform</td>\n",
       "      <td></td>\n",
       "      <td>Evaluation</td>\n",
       "      <td>0.999773</td>\n",
       "    </tr>\n",
       "    <tr>\n",
       "      <th>50925</th>\n",
       "      <td>8</td>\n",
       "      <td>Do you think that you want to try this restaur...</td>\n",
       "      <td>no_emotion</td>\n",
       "      <td>question</td>\n",
       "      <td></td>\n",
       "      <td>Evaluation</td>\n",
       "      <td>0.996227</td>\n",
       "    </tr>\n",
       "    <tr>\n",
       "      <th>50926</th>\n",
       "      <td>9</td>\n",
       "      <td>No , I think that I've had enough of this rest...</td>\n",
       "      <td>no_emotion</td>\n",
       "      <td>inform</td>\n",
       "      <td></td>\n",
       "      <td>Evaluation</td>\n",
       "      <td>0.999987</td>\n",
       "    </tr>\n",
       "  </tbody>\n",
       "</table>\n",
       "<p>50927 rows × 7 columns</p>\n",
       "</div>"
      ]
     },
     "execution_count": 25,
     "metadata": {},
     "output_type": "execute_result"
    }
   ],
   "execution_count": 25
  },
  {
   "metadata": {},
   "cell_type": "markdown",
   "source": "### Label distribution",
   "id": "f613b1ff2cc93486"
  },
  {
   "metadata": {
    "ExecuteTime": {
     "end_time": "2025-05-17T19:12:53.443116Z",
     "start_time": "2025-05-17T19:12:53.385820Z"
    }
   },
   "cell_type": "code",
   "source": [
    "import matplotlib.pyplot as plt\n",
    "df['bloom_label'].value_counts().plot(kind='bar')\n",
    "plt.title(\"Bloom Labels Distribution\")\n",
    "plt.xlabel(\"Bloom Label\")\n",
    "plt.ylabel(\"Count\")\n",
    "plt.show()\n"
   ],
   "id": "f31a534618997797",
   "outputs": [
    {
     "data": {
      "text/plain": [
       "<Figure size 640x480 with 1 Axes>"
      ],
      "image/png": "[encoded data removed]"
     },
     "metadata": {},
     "output_type": "display_data"
    }
   ],
   "execution_count": 27
  },
  {
   "metadata": {
    "ExecuteTime": {
     "end_time": "2025-05-21T20:15:04.288503Z",
     "start_time": "2025-05-21T20:15:04.207032Z"
    }
   },
   "cell_type": "code",
   "source": [
    "df = pd.read_json(\"../Black_White_Hat/dataset_with_bloom.json\", lines=True)\n",
    "df"
   ],
   "id": "cc51ff93427de395",
   "outputs": [
    {
     "data": {
      "text/plain": [
       "       turn                                          utterance     emotion  \\\n",
       "0         0       I'm so angry . I feel like killing someone .       anger   \n",
       "1         1                                Calm down . __eou__  no_emotion   \n",
       "2         0  I was just about to go to bed when the telepho...  no_emotion   \n",
       "3         1                                       Who was it ?  no_emotion   \n",
       "4         2  Kate . She said she was too excited to go to s...  no_emotion   \n",
       "...     ...                                                ...         ...   \n",
       "50922     5         I felt that the food was pretty mediocre .  no_emotion   \n",
       "50923     6           The service wasn't that great , either .  no_emotion   \n",
       "50924     7               I agree . The service was not good .  no_emotion   \n",
       "50925     8  Do you think that you want to try this restaur...  no_emotion   \n",
       "50926     9  No , I think that I've had enough of this rest...  no_emotion   \n",
       "\n",
       "            act hat    bloom_label  bloom_score  \n",
       "0        inform         Evaluation     0.792142  \n",
       "1        inform      Comprehension     0.512506  \n",
       "2        inform           Analysis     0.946143  \n",
       "3      question          Knowledge     0.999966  \n",
       "4        inform         Evaluation     0.957235  \n",
       "...         ...  ..            ...          ...  \n",
       "50922    inform         Evaluation     0.999984  \n",
       "50923    inform         Evaluation     0.999745  \n",
       "50924    inform         Evaluation     0.999773  \n",
       "50925  question         Evaluation     0.996227  \n",
       "50926    inform         Evaluation     0.999987  \n",
       "\n",
       "[50927 rows x 7 columns]"
      ],
      "text/html": [
       "<div>\n",
       "<style scoped>\n",
       "    .dataframe tbody tr th:only-of-type {\n",
       "        vertical-align: middle;\n",
       "    }\n",
       "\n",
       "    .dataframe tbody tr th {\n",
       "        vertical-align: top;\n",
       "    }\n",
       "\n",
       "    .dataframe thead th {\n",
       "        text-align: right;\n",
       "    }\n",
       "</style>\n",
       "<table border=\"1\" class=\"dataframe\">\n",
       "  <thead>\n",
       "    <tr style=\"text-align: right;\">\n",
       "      <th></th>\n",
       "      <th>turn</th>\n",
       "      <th>utterance</th>\n",
       "      <th>emotion</th>\n",
       "      <th>act</th>\n",
       "      <th>hat</th>\n",
       "      <th>bloom_label</th>\n",
       "      <th>bloom_score</th>\n",
       "    </tr>\n",
       "  </thead>\n",
       "  <tbody>\n",
       "    <tr>\n",
       "      <th>0</th>\n",
       "      <td>0</td>\n",
       "      <td>I'm so angry . I feel like killing someone .</td>\n",
       "      <td>anger</td>\n",
       "      <td>inform</td>\n",
       "      <td></td>\n",
       "      <td>Evaluation</td>\n",
       "      <td>0.792142</td>\n",
       "    </tr>\n",
       "    <tr>\n",
       "      <th>1</th>\n",
       "      <td>1</td>\n",
       "      <td>Calm down . __eou__</td>\n",
       "      <td>no_emotion</td>\n",
       "      <td>inform</td>\n",
       "      <td></td>\n",
       "      <td>Comprehension</td>\n",
       "      <td>0.512506</td>\n",
       "    </tr>\n",
       "    <tr>\n",
       "      <th>2</th>\n",
       "      <td>0</td>\n",
       "      <td>I was just about to go to bed when the telepho...</td>\n",
       "      <td>no_emotion</td>\n",
       "      <td>inform</td>\n",
       "      <td></td>\n",
       "      <td>Analysis</td>\n",
       "      <td>0.946143</td>\n",
       "    </tr>\n",
       "    <tr>\n",
       "      <th>3</th>\n",
       "      <td>1</td>\n",
       "      <td>Who was it ?</td>\n",
       "      <td>no_emotion</td>\n",
       "      <td>question</td>\n",
       "      <td></td>\n",
       "      <td>Knowledge</td>\n",
       "      <td>0.999966</td>\n",
       "    </tr>\n",
       "    <tr>\n",
       "      <th>4</th>\n",
       "      <td>2</td>\n",
       "      <td>Kate . She said she was too excited to go to s...</td>\n",
       "      <td>no_emotion</td>\n",
       "      <td>inform</td>\n",
       "      <td></td>\n",
       "      <td>Evaluation</td>\n",
       "      <td>0.957235</td>\n",
       "    </tr>\n",
       "    <tr>\n",
       "      <th>...</th>\n",
       "      <td>...</td>\n",
       "      <td>...</td>\n",
       "      <td>...</td>\n",
       "      <td>...</td>\n",
       "      <td>...</td>\n",
       "      <td>...</td>\n",
       "      <td>...</td>\n",
       "    </tr>\n",
       "    <tr>\n",
       "      <th>50922</th>\n",
       "      <td>5</td>\n",
       "      <td>I felt that the food was pretty mediocre .</td>\n",
       "      <td>no_emotion</td>\n",
       "      <td>inform</td>\n",
       "      <td></td>\n",
       "      <td>Evaluation</td>\n",
       "      <td>0.999984</td>\n",
       "    </tr>\n",
       "    <tr>\n",
       "      <th>50923</th>\n",
       "      <td>6</td>\n",
       "      <td>The service wasn't that great , either .</td>\n",
       "      <td>no_emotion</td>\n",
       "      <td>inform</td>\n",
       "      <td></td>\n",
       "      <td>Evaluation</td>\n",
       "      <td>0.999745</td>\n",
       "    </tr>\n",
       "    <tr>\n",
       "      <th>50924</th>\n",
       "      <td>7</td>\n",
       "      <td>I agree . The service was not good .</td>\n",
       "      <td>no_emotion</td>\n",
       "      <td>inform</td>\n",
       "      <td></td>\n",
       "      <td>Evaluation</td>\n",
       "      <td>0.999773</td>\n",
       "    </tr>\n",
       "    <tr>\n",
       "      <th>50925</th>\n",
       "      <td>8</td>\n",
       "      <td>Do you think that you want to try this restaur...</td>\n",
       "      <td>no_emotion</td>\n",
       "      <td>question</td>\n",
       "      <td></td>\n",
       "      <td>Evaluation</td>\n",
       "      <td>0.996227</td>\n",
       "    </tr>\n",
       "    <tr>\n",
       "      <th>50926</th>\n",
       "      <td>9</td>\n",
       "      <td>No , I think that I've had enough of this rest...</td>\n",
       "      <td>no_emotion</td>\n",
       "      <td>inform</td>\n",
       "      <td></td>\n",
       "      <td>Evaluation</td>\n",
       "      <td>0.999987</td>\n",
       "    </tr>\n",
       "  </tbody>\n",
       "</table>\n",
       "<p>50927 rows × 7 columns</p>\n",
       "</div>"
      ]
     },
     "execution_count": 4,
     "metadata": {},
     "output_type": "execute_result"
    }
   ],
   "execution_count": 4
  },
  {
   "metadata": {
    "ExecuteTime": {
     "end_time": "2025-05-21T20:15:09.745508Z",
     "start_time": "2025-05-21T20:15:09.731118Z"
    }
   },
   "cell_type": "code",
   "source": [
    "import matplotlib.pyplot as plt\n",
    "df['bloom_label'].value_counts()\n"
   ],
   "id": "de346ee8896d42d2",
   "outputs": [
    {
     "data": {
      "text/plain": [
       "bloom_label\n",
       "Evaluation       28039\n",
       "Knowledge         9695\n",
       "Comprehension     6513\n",
       "Analysis          4916\n",
       "Synthesis         1092\n",
       "Application        672\n",
       "Name: count, dtype: int64"
      ]
     },
     "execution_count": 6,
     "metadata": {},
     "output_type": "execute_result"
    }
   ],
   "execution_count": 6
  },
  {
   "metadata": {},
   "cell_type": "code",
   "outputs": [],
   "execution_count": null,
   "source": "",
   "id": "148b34f20f13eb4c"
  }
 ],
 "metadata": {
  "kernelspec": {
   "display_name": "Python 3",
   "language": "python",
   "name": "python3"
  },
  "language_info": {
   "codemirror_mode": {
    "name": "ipython",
    "version": 2
   },
   "file_extension": ".py",
   "mimetype": "text/x-python",
   "name": "python",
   "nbconvert_exporter": "python",
   "pygments_lexer": "ipython2",
   "version": "2.7.6"
  }
 },
 "nbformat": 4,
 "nbformat_minor": 5
}
